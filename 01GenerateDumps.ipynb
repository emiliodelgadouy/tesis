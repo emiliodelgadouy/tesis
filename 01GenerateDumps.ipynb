{
 "cells": [
  {
   "metadata": {
    "ExecuteTime": {
     "end_time": "2025-08-02T14:07:24.403345Z",
     "start_time": "2025-08-02T14:01:51.665375Z"
    }
   },
   "cell_type": "code",
   "source": "from utils.Dataset import Dataset",
   "id": "933e0808981e2921",
   "outputs": [
    {
     "name": "stderr",
     "output_type": "stream",
     "text": [
      "Preloading cache: 100%|██████████| 20000/20000 [05:32<00:00, 60.14it/s]\n"
     ]
    }
   ],
   "execution_count": 2
  },
  {
   "metadata": {
    "ExecuteTime": {
     "end_time": "2025-08-02T14:58:06.894378Z",
     "start_time": "2025-08-02T14:07:24.656420Z"
    }
   },
   "cell_type": "code",
   "source": [
    "#Full dump\n",
    "dataset = Dataset(lateralize=False, reduced=False)\n",
    "dataset.preload_cache()\n",
    "dataset.save_dump()"
   ],
   "id": "be24fd84f1aed549",
   "outputs": [],
   "execution_count": 3
  },
  {
   "metadata": {
    "ExecuteTime": {
     "end_time": "2025-08-04T00:47:20.678532Z",
     "start_time": "2025-08-04T00:46:36.891137Z"
    }
   },
   "cell_type": "code",
   "source": [
    "#Reduced dump\n",
    "dataset_reduced = Dataset(lateralize=False, reduced=True, n=500)\n",
    "dataset_reduced.preload_cache()\n",
    "dataset_reduced.save_dump(\"dump_cache_reduced.npz\")\n"
   ],
   "id": "b01676ddb653e5c4",
   "outputs": [
    {
     "name": "stderr",
     "output_type": "stream",
     "text": [
      "Preloading cache: 100%|██████████| 440/440 [00:07<00:00, 58.07it/s]\n"
     ]
    }
   ],
   "execution_count": 2
  },
  {
   "metadata": {
    "ExecuteTime": {
     "end_time": "2025-08-04T00:50:23.889731Z",
     "start_time": "2025-08-04T00:50:23.808778Z"
    }
   },
   "cell_type": "code",
   "source": [
    "import sys\n",
    "is_colab = 'google.colab' in sys.modules"
   ],
   "id": "9496ad23907a2927",
   "outputs": [],
   "execution_count": 10
  },
  {
   "metadata": {
    "ExecuteTime": {
     "end_time": "2025-08-04T00:50:39.199359Z",
     "start_time": "2025-08-04T00:50:39.126542Z"
    }
   },
   "cell_type": "code",
   "source": "print(\"is_colab: \",is_colab)",
   "id": "9db6487fc7e157ee",
   "outputs": [
    {
     "ename": "SyntaxError",
     "evalue": "invalid syntax. Perhaps you forgot a comma? (2684872437.py, line 1)",
     "output_type": "error",
     "traceback": [
      "  \u001B[36mCell\u001B[39m\u001B[36m \u001B[39m\u001B[32mIn[12]\u001B[39m\u001B[32m, line 1\u001B[39m\n\u001B[31m    \u001B[39m\u001B[31mprint(\"is_colab: \"is_colab)\u001B[39m\n          ^\n\u001B[31mSyntaxError\u001B[39m\u001B[31m:\u001B[39m invalid syntax. Perhaps you forgot a comma?\n"
     ]
    }
   ],
   "execution_count": 12
  }
 ],
 "metadata": {
  "kernelspec": {
   "display_name": "Python 3",
   "language": "python",
   "name": "python3"
  },
  "language_info": {
   "codemirror_mode": {
    "name": "ipython",
    "version": 2
   },
   "file_extension": ".py",
   "mimetype": "text/x-python",
   "name": "python",
   "nbconvert_exporter": "python",
   "pygments_lexer": "ipython2",
   "version": "2.7.6"
  }
 },
 "nbformat": 4,
 "nbformat_minor": 5
}
