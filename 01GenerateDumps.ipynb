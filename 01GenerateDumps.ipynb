{
 "cells": [
  {
   "cell_type": "code",
   "id": "initial_id",
   "metadata": {
    "collapsed": true,
    "ExecuteTime": {
     "end_time": "2025-08-04T00:46:30.435612Z",
     "start_time": "2025-08-04T00:46:23.775926Z"
    }
   },
   "source": [
    "%load_ext autoreload\n",
    "%autoreload 2\n",
    "%reload_ext autoreload\n",
    "from data.Dataset import Dataset\n",
    "from data.PatchSequence import PatchSequence"
   ],
   "outputs": [
    {
     "name": "stderr",
     "output_type": "stream",
     "text": [
      "2025-08-03 21:46:26.235522: I tensorflow/core/util/port.cc:153] oneDNN custom operations are on. You may see slightly different numerical results due to floating-point round-off errors from different computation orders. To turn them off, set the environment variable `TF_ENABLE_ONEDNN_OPTS=0`.\n",
      "2025-08-03 21:46:26.587499: E external/local_xla/xla/stream_executor/cuda/cuda_fft.cc:467] Unable to register cuFFT factory: Attempting to register factory for plugin cuFFT when one has already been registered\n",
      "WARNING: All log messages before absl::InitializeLog() is called are written to STDERR\n",
      "E0000 00:00:1754268386.670969    8382 cuda_dnn.cc:8579] Unable to register cuDNN factory: Attempting to register factory for plugin cuDNN when one has already been registered\n",
      "E0000 00:00:1754268386.693208    8382 cuda_blas.cc:1407] Unable to register cuBLAS factory: Attempting to register factory for plugin cuBLAS when one has already been registered\n",
      "W0000 00:00:1754268386.938428    8382 computation_placer.cc:177] computation placer already registered. Please check linkage and avoid linking the same target more than once.\n",
      "W0000 00:00:1754268386.938555    8382 computation_placer.cc:177] computation placer already registered. Please check linkage and avoid linking the same target more than once.\n",
      "W0000 00:00:1754268386.938579    8382 computation_placer.cc:177] computation placer already registered. Please check linkage and avoid linking the same target more than once.\n",
      "W0000 00:00:1754268386.938595    8382 computation_placer.cc:177] computation placer already registered. Please check linkage and avoid linking the same target more than once.\n",
      "2025-08-03 21:46:27.005007: I tensorflow/core/platform/cpu_feature_guard.cc:210] This TensorFlow binary is optimized to use available CPU instructions in performance-critical operations.\n",
      "To enable the following instructions: AVX2 AVX_VNNI FMA, in other operations, rebuild TensorFlow with the appropriate compiler flags.\n"
     ]
    }
   ],
   "execution_count": 1
  },
  {
   "metadata": {
    "ExecuteTime": {
     "end_time": "2025-08-02T14:07:24.403345Z",
     "start_time": "2025-08-02T14:01:51.665375Z"
    }
   },
   "cell_type": "code",
   "source": [
    "dataset = Dataset(lateralize=False, reduced=False)\n",
    "dataset.preload_cache()"
   ],
   "id": "933e0808981e2921",
   "outputs": [
    {
     "name": "stderr",
     "output_type": "stream",
     "text": [
      "Preloading cache: 100%|██████████| 20000/20000 [05:32<00:00, 60.14it/s]\n"
     ]
    }
   ],
   "execution_count": 2
  },
  {
   "metadata": {
    "ExecuteTime": {
     "end_time": "2025-08-02T14:58:06.894378Z",
     "start_time": "2025-08-02T14:07:24.656420Z"
    }
   },
   "cell_type": "code",
   "source": "dataset.save_dump()",
   "id": "be24fd84f1aed549",
   "outputs": [],
   "execution_count": 3
  },
  {
   "metadata": {
    "ExecuteTime": {
     "end_time": "2025-08-04T00:47:20.678532Z",
     "start_time": "2025-08-04T00:46:36.891137Z"
    }
   },
   "cell_type": "code",
   "source": [
    "dataset_reduced = Dataset(lateralize=False, reduced=True, n=500)\n",
    "dataset_reduced.preload_cache()\n",
    "dataset_reduced.save_dump(\"dump_cache_reduced.npz\")\n"
   ],
   "id": "b01676ddb653e5c4",
   "outputs": [
    {
     "name": "stderr",
     "output_type": "stream",
     "text": [
      "Preloading cache: 100%|██████████| 440/440 [00:07<00:00, 58.07it/s]\n"
     ]
    }
   ],
   "execution_count": 2
  },
  {
   "metadata": {
    "ExecuteTime": {
     "end_time": "2025-08-04T00:50:23.889731Z",
     "start_time": "2025-08-04T00:50:23.808778Z"
    }
   },
   "cell_type": "code",
   "source": [
    "import sys\n",
    "is_colab = 'google.colab' in sys.modules"
   ],
   "id": "9496ad23907a2927",
   "outputs": [],
   "execution_count": 10
  },
  {
   "metadata": {
    "ExecuteTime": {
     "end_time": "2025-08-04T00:50:39.199359Z",
     "start_time": "2025-08-04T00:50:39.126542Z"
    }
   },
   "cell_type": "code",
   "source": "print(\"is_colab: \",is_colab)",
   "id": "9db6487fc7e157ee",
   "outputs": [
    {
     "ename": "SyntaxError",
     "evalue": "invalid syntax. Perhaps you forgot a comma? (2684872437.py, line 1)",
     "output_type": "error",
     "traceback": [
      "  \u001B[36mCell\u001B[39m\u001B[36m \u001B[39m\u001B[32mIn[12]\u001B[39m\u001B[32m, line 1\u001B[39m\n\u001B[31m    \u001B[39m\u001B[31mprint(\"is_colab: \"is_colab)\u001B[39m\n          ^\n\u001B[31mSyntaxError\u001B[39m\u001B[31m:\u001B[39m invalid syntax. Perhaps you forgot a comma?\n"
     ]
    }
   ],
   "execution_count": 12
  }
 ],
 "metadata": {
  "kernelspec": {
   "display_name": "Python 3",
   "language": "python",
   "name": "python3"
  },
  "language_info": {
   "codemirror_mode": {
    "name": "ipython",
    "version": 2
   },
   "file_extension": ".py",
   "mimetype": "text/x-python",
   "name": "python",
   "nbconvert_exporter": "python",
   "pygments_lexer": "ipython2",
   "version": "2.7.6"
  }
 },
 "nbformat": 4,
 "nbformat_minor": 5
}
