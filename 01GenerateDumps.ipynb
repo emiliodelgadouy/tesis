{
 "cells": [
  {
   "metadata": {
    "ExecuteTime": {
     "end_time": "2025-08-04T23:40:10.849143Z",
     "start_time": "2025-08-04T23:40:09.484171Z"
    }
   },
   "cell_type": "code",
   "source": "from utils.Dataset import Dataset",
   "id": "933e0808981e2921",
   "outputs": [],
   "execution_count": 1
  },
  {
   "metadata": {},
   "cell_type": "code",
   "source": [
    "#Full dump\n",
    "dataset = Dataset(lateralize=False, reduced=False)\n",
    "dataset.preload_cache()\n",
    "dataset.save_dump()"
   ],
   "id": "be24fd84f1aed549",
   "outputs": [],
   "execution_count": null
  },
  {
   "metadata": {
    "ExecuteTime": {
     "end_time": "2025-08-04T21:42:24.476916Z",
     "start_time": "2025-08-04T21:41:41.147825Z"
    }
   },
   "cell_type": "code",
   "source": [
    "#Reduced dump\n",
    "dataset_reduced = Dataset(lateralize=False, reduced=True, n=500)\n",
    "dataset_reduced.preload_cache()\n",
    "dataset_reduced.save_dump(\"dump_cache_reduced.npz\")\n"
   ],
   "id": "b01676ddb653e5c4",
   "outputs": [
    {
     "name": "stderr",
     "output_type": "stream",
     "text": [
      "Preloading cache: 100%|██████████| 440/440 [00:08<00:00, 52.01it/s]\n"
     ]
    }
   ],
   "execution_count": 2
  },
  {
   "metadata": {},
   "cell_type": "code",
   "source": [
    "# import sys\n",
    "# is_colab = 'google.colab' in sys.modules"
   ],
   "id": "9496ad23907a2927",
   "outputs": [],
   "execution_count": null
  },
  {
   "metadata": {},
   "cell_type": "code",
   "source": "# print(\"is_colab: \",is_colab)",
   "id": "9db6487fc7e157ee",
   "outputs": [],
   "execution_count": null
  },
  {
   "metadata": {
    "jupyter": {
     "is_executing": true
    },
    "ExecuteTime": {
     "start_time": "2025-08-04T23:40:10.884582Z"
    }
   },
   "cell_type": "code",
   "source": [
    "dataset_reduced_half = Dataset(lateralize=False, reduced=True, n=10000)\n",
    "dataset_reduced_half.preload_cache()\n",
    "dataset_reduced_half.save_dump(\"dump_cache_reduced_half.npz\")"
   ],
   "id": "19efa207b372f4d2",
   "outputs": [
    {
     "name": "stderr",
     "output_type": "stream",
     "text": [
      "Preloading cache:  10%|▉         | 945/9514 [00:15<02:45, 51.79it/s]"
     ]
    }
   ],
   "execution_count": null
  }
 ],
 "metadata": {
  "kernelspec": {
   "display_name": "Python 3",
   "language": "python",
   "name": "python3"
  },
  "language_info": {
   "codemirror_mode": {
    "name": "ipython",
    "version": 2
   },
   "file_extension": ".py",
   "mimetype": "text/x-python",
   "name": "python",
   "nbconvert_exporter": "python",
   "pygments_lexer": "ipython2",
   "version": "2.7.6"
  }
 },
 "nbformat": 4,
 "nbformat_minor": 5
}
