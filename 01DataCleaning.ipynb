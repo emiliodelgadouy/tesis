{
 "cells": [
  {
   "cell_type": "code",
   "id": "initial_id",
   "metadata": {
    "collapsed": true,
    "ExecuteTime": {
     "end_time": "2025-08-02T21:13:05.226038Z",
     "start_time": "2025-08-02T21:13:05.118003Z"
    }
   },
   "source": [
    "from data.PatchSequence import PatchSequence\n",
    "from data.Dataset import Dataset\n",
    "%load_ext autoreload\n",
    "%autoreload 2\n",
    "%reload_ext autoreload"
   ],
   "outputs": [
    {
     "name": "stdout",
     "output_type": "stream",
     "text": [
      "The autoreload extension is already loaded. To reload it, use:\n",
      "  %reload_ext autoreload\n"
     ]
    }
   ],
   "execution_count": 13
  },
  {
   "metadata": {
    "ExecuteTime": {
     "end_time": "2025-08-02T21:13:05.507700Z",
     "start_time": "2025-08-02T21:13:05.313401Z"
    }
   },
   "cell_type": "code",
   "source": [
    "dataset = Dataset(lateralize=False, reduced=False, n=32)\n",
    "dataset.head()"
   ],
   "id": "ffabdf44a96f9d7f",
   "outputs": [
    {
     "data": {
      "text/plain": [
       "  laterality view  breast_birads  finding_birads     split        xmin  \\\n",
       "0          R   CC              4               4  training  485.695624   \n",
       "1          R  MLO              4               4  training  532.399692   \n",
       "2          R   CC              3               3  training  368.152714   \n",
       "3          R  MLO              3               3  training  162.492921   \n",
       "4          R   CC              4               4  training  403.582493   \n",
       "\n",
       "          ymin        xmax         ymax  \\\n",
       "0   985.773942  609.595900  1078.419728   \n",
       "1   743.812744  639.422675   812.095390   \n",
       "2   499.060222  816.519337  1287.129503   \n",
       "3   726.730749  729.029452  1105.680056   \n",
       "4  1078.254802  580.267104  1203.183844   \n",
       "\n",
       "                                                path  findings  \n",
       "0  data/images_original/48575a27b7c992427041a82fa...         1  \n",
       "1  data/images_original/48575a27b7c992427041a82fa...         1  \n",
       "2  data/images_original/75e8e48933289d70b407379a5...         1  \n",
       "3  data/images_original/75e8e48933289d70b407379a5...         1  \n",
       "4  data/images_original/c3487424fee1bdd4515b72dc3...         1  "
      ],
      "text/html": [
       "<div>\n",
       "<style scoped>\n",
       "    .dataframe tbody tr th:only-of-type {\n",
       "        vertical-align: middle;\n",
       "    }\n",
       "\n",
       "    .dataframe tbody tr th {\n",
       "        vertical-align: top;\n",
       "    }\n",
       "\n",
       "    .dataframe thead th {\n",
       "        text-align: right;\n",
       "    }\n",
       "</style>\n",
       "<table border=\"1\" class=\"dataframe\">\n",
       "  <thead>\n",
       "    <tr style=\"text-align: right;\">\n",
       "      <th></th>\n",
       "      <th>laterality</th>\n",
       "      <th>view</th>\n",
       "      <th>breast_birads</th>\n",
       "      <th>finding_birads</th>\n",
       "      <th>split</th>\n",
       "      <th>xmin</th>\n",
       "      <th>ymin</th>\n",
       "      <th>xmax</th>\n",
       "      <th>ymax</th>\n",
       "      <th>path</th>\n",
       "      <th>findings</th>\n",
       "    </tr>\n",
       "  </thead>\n",
       "  <tbody>\n",
       "    <tr>\n",
       "      <th>0</th>\n",
       "      <td>R</td>\n",
       "      <td>CC</td>\n",
       "      <td>4</td>\n",
       "      <td>4</td>\n",
       "      <td>training</td>\n",
       "      <td>485.695624</td>\n",
       "      <td>985.773942</td>\n",
       "      <td>609.595900</td>\n",
       "      <td>1078.419728</td>\n",
       "      <td>data/images_original/48575a27b7c992427041a82fa...</td>\n",
       "      <td>1</td>\n",
       "    </tr>\n",
       "    <tr>\n",
       "      <th>1</th>\n",
       "      <td>R</td>\n",
       "      <td>MLO</td>\n",
       "      <td>4</td>\n",
       "      <td>4</td>\n",
       "      <td>training</td>\n",
       "      <td>532.399692</td>\n",
       "      <td>743.812744</td>\n",
       "      <td>639.422675</td>\n",
       "      <td>812.095390</td>\n",
       "      <td>data/images_original/48575a27b7c992427041a82fa...</td>\n",
       "      <td>1</td>\n",
       "    </tr>\n",
       "    <tr>\n",
       "      <th>2</th>\n",
       "      <td>R</td>\n",
       "      <td>CC</td>\n",
       "      <td>3</td>\n",
       "      <td>3</td>\n",
       "      <td>training</td>\n",
       "      <td>368.152714</td>\n",
       "      <td>499.060222</td>\n",
       "      <td>816.519337</td>\n",
       "      <td>1287.129503</td>\n",
       "      <td>data/images_original/75e8e48933289d70b407379a5...</td>\n",
       "      <td>1</td>\n",
       "    </tr>\n",
       "    <tr>\n",
       "      <th>3</th>\n",
       "      <td>R</td>\n",
       "      <td>MLO</td>\n",
       "      <td>3</td>\n",
       "      <td>3</td>\n",
       "      <td>training</td>\n",
       "      <td>162.492921</td>\n",
       "      <td>726.730749</td>\n",
       "      <td>729.029452</td>\n",
       "      <td>1105.680056</td>\n",
       "      <td>data/images_original/75e8e48933289d70b407379a5...</td>\n",
       "      <td>1</td>\n",
       "    </tr>\n",
       "    <tr>\n",
       "      <th>4</th>\n",
       "      <td>R</td>\n",
       "      <td>CC</td>\n",
       "      <td>4</td>\n",
       "      <td>4</td>\n",
       "      <td>training</td>\n",
       "      <td>403.582493</td>\n",
       "      <td>1078.254802</td>\n",
       "      <td>580.267104</td>\n",
       "      <td>1203.183844</td>\n",
       "      <td>data/images_original/c3487424fee1bdd4515b72dc3...</td>\n",
       "      <td>1</td>\n",
       "    </tr>\n",
       "  </tbody>\n",
       "</table>\n",
       "</div>"
      ]
     },
     "execution_count": 14,
     "metadata": {},
     "output_type": "execute_result"
    }
   ],
   "execution_count": 14
  },
  {
   "metadata": {
    "ExecuteTime": {
     "end_time": "2025-08-02T21:13:05.653159Z",
     "start_time": "2025-08-02T21:13:05.556305Z"
    }
   },
   "cell_type": "code",
   "source": [
    "ds_training = dataset[dataset[\"split\"] == \"training\"]\n",
    "ds_test = dataset[dataset[\"split\"] == \"test\"]"
   ],
   "id": "6033727cbcc3a30e",
   "outputs": [],
   "execution_count": 15
  },
  {
   "metadata": {
    "ExecuteTime": {
     "end_time": "2025-08-02T21:13:05.848240Z",
     "start_time": "2025-08-02T21:13:05.778172Z"
    }
   },
   "cell_type": "code",
   "source": "sum(ds_training[\"path\"].value_counts()>1)",
   "id": "9c53f9e6c03d8de8",
   "outputs": [
    {
     "data": {
      "text/plain": [
       "268"
      ]
     },
     "execution_count": 16,
     "metadata": {},
     "output_type": "execute_result"
    }
   ],
   "execution_count": 16
  },
  {
   "metadata": {
    "ExecuteTime": {
     "end_time": "2025-08-02T21:13:06.134248Z",
     "start_time": "2025-08-02T21:13:06.017893Z"
    }
   },
   "cell_type": "code",
   "source": "sum(ds_test[\"path\"].value_counts()>1)",
   "id": "626a782c844c707c",
   "outputs": [
    {
     "data": {
      "text/plain": [
       "70"
      ]
     },
     "execution_count": 17,
     "metadata": {},
     "output_type": "execute_result"
    }
   ],
   "execution_count": 17
  },
  {
   "metadata": {
    "ExecuteTime": {
     "end_time": "2025-08-02T21:15:53.281695Z",
     "start_time": "2025-08-02T21:15:53.190541Z"
    }
   },
   "cell_type": "code",
   "source": [
    "common_paths = set(ds_training['path']).intersection(ds_test['path'])\n",
    "print(f\"Rutas en común: {len(common_paths)}\")"
   ],
   "id": "573b78869897c3c5",
   "outputs": [
    {
     "name": "stdout",
     "output_type": "stream",
     "text": [
      "Rutas en común: 0\n"
     ]
    }
   ],
   "execution_count": 21
  },
  {
   "metadata": {
    "ExecuteTime": {
     "end_time": "2025-08-02T21:23:30.527208Z",
     "start_time": "2025-08-02T21:23:30.384297Z"
    }
   },
   "cell_type": "code",
   "source": [
    "n_labels_por_path = ds_training.groupby('path')['findings'].nunique()\n",
    "conflictos = n_labels_por_path[n_labels_por_path > 1]\n",
    "n_conflictos = conflictos.size\n",
    "print(f\"Paths repetidos con label distinto: {n_conflictos}\")\n"
   ],
   "id": "bbbf4bcccd568c36",
   "outputs": [
    {
     "name": "stdout",
     "output_type": "stream",
     "text": [
      "Paths repetidos con label distinto: 0\n"
     ]
    }
   ],
   "execution_count": 23
  },
  {
   "metadata": {
    "ExecuteTime": {
     "end_time": "2025-08-02T21:23:47.654919Z",
     "start_time": "2025-08-02T21:23:47.515701Z"
    }
   },
   "cell_type": "code",
   "source": [
    "n_labels_por_path = ds_test.groupby('path')['findings'].nunique()\n",
    "conflictos = n_labels_por_path[n_labels_por_path > 1]\n",
    "n_conflictos = conflictos.size\n",
    "print(f\"Paths repetidos con label distinto: {n_conflictos}\")\n"
   ],
   "id": "5cd3babf547178a9",
   "outputs": [
    {
     "name": "stdout",
     "output_type": "stream",
     "text": [
      "Paths repetidos con label distinto: 0\n"
     ]
    }
   ],
   "execution_count": 24
  }
 ],
 "metadata": {
  "kernelspec": {
   "display_name": "Python 3",
   "language": "python",
   "name": "python3"
  },
  "language_info": {
   "codemirror_mode": {
    "name": "ipython",
    "version": 2
   },
   "file_extension": ".py",
   "mimetype": "text/x-python",
   "name": "python",
   "nbconvert_exporter": "python",
   "pygments_lexer": "ipython2",
   "version": "2.7.6"
  }
 },
 "nbformat": 4,
 "nbformat_minor": 5
}
