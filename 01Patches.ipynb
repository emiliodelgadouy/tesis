{
 "cells": [
  {
   "metadata": {
    "ExecuteTime": {
     "end_time": "2025-08-04T19:52:24.798093Z",
     "start_time": "2025-08-04T19:52:21.959980Z"
    }
   },
   "cell_type": "code",
   "source": [
    "from matplotlib import pyplot as plt\n",
    "from utils.PatchSequence import PatchSequence\n",
    "from utils.Dataset import Dataset"
   ],
   "id": "490d20275f80662e",
   "outputs": [
    {
     "name": "stderr",
     "output_type": "stream",
     "text": [
      "2025-08-04 16:52:22.780137: I tensorflow/core/util/port.cc:153] oneDNN custom operations are on. You may see slightly different numerical results due to floating-point round-off errors from different computation orders. To turn them off, set the environment variable `TF_ENABLE_ONEDNN_OPTS=0`.\n",
      "2025-08-04 16:52:22.797387: E external/local_xla/xla/stream_executor/cuda/cuda_fft.cc:467] Unable to register cuFFT factory: Attempting to register factory for plugin cuFFT when one has already been registered\n",
      "WARNING: All log messages before absl::InitializeLog() is called are written to STDERR\n",
      "E0000 00:00:1754337142.816037    7632 cuda_dnn.cc:8579] Unable to register cuDNN factory: Attempting to register factory for plugin cuDNN when one has already been registered\n",
      "E0000 00:00:1754337142.821597    7632 cuda_blas.cc:1407] Unable to register cuBLAS factory: Attempting to register factory for plugin cuBLAS when one has already been registered\n",
      "W0000 00:00:1754337142.835337    7632 computation_placer.cc:177] computation placer already registered. Please check linkage and avoid linking the same target more than once.\n",
      "W0000 00:00:1754337142.835353    7632 computation_placer.cc:177] computation placer already registered. Please check linkage and avoid linking the same target more than once.\n",
      "W0000 00:00:1754337142.835356    7632 computation_placer.cc:177] computation placer already registered. Please check linkage and avoid linking the same target more than once.\n",
      "W0000 00:00:1754337142.835358    7632 computation_placer.cc:177] computation placer already registered. Please check linkage and avoid linking the same target more than once.\n",
      "2025-08-04 16:52:22.840297: I tensorflow/core/platform/cpu_feature_guard.cc:210] This TensorFlow binary is optimized to use available CPU instructions in performance-critical operations.\n",
      "To enable the following instructions: AVX2 AVX_VNNI FMA, in other operations, rebuild TensorFlow with the appropriate compiler flags.\n"
     ]
    }
   ],
   "execution_count": 1
  },
  {
   "cell_type": "code",
   "id": "5e2d3655f2008167",
   "metadata": {
    "ExecuteTime": {
     "end_time": "2025-08-04T19:52:25.106061Z",
     "start_time": "2025-08-04T19:52:24.957545Z"
    }
   },
   "source": "dataset = Dataset(lateralize=False)",
   "outputs": [
    {
     "name": "stdout",
     "output_type": "stream",
     "text": [
      "/opt/projects/tesis/utils\n"
     ]
    }
   ],
   "execution_count": 2
  },
  {
   "cell_type": "code",
   "id": "3f343c04f0a10611",
   "metadata": {
    "ExecuteTime": {
     "end_time": "2025-08-04T19:52:25.235378Z",
     "start_time": "2025-08-04T19:52:25.223598Z"
    }
   },
   "source": "# dataset.head().render(render_sample_patch=True)",
   "outputs": [],
   "execution_count": 3
  },
  {
   "cell_type": "code",
   "id": "57c925a315651fc7",
   "metadata": {
    "ExecuteTime": {
     "end_time": "2025-08-04T19:52:25.307910Z",
     "start_time": "2025-08-04T19:52:25.283778Z"
    }
   },
   "source": [
    "ds_training = dataset[dataset[\"split\"] == \"training\"]\n",
    "ds_test = dataset[dataset[\"split\"] == \"test\"]"
   ],
   "outputs": [],
   "execution_count": 4
  },
  {
   "cell_type": "code",
   "id": "a635bc8d3622a78c",
   "metadata": {
    "ExecuteTime": {
     "end_time": "2025-08-04T19:52:25.343900Z",
     "start_time": "2025-08-04T19:52:25.339447Z"
    }
   },
   "source": "# dataset.stats()",
   "outputs": [],
   "execution_count": 5
  },
  {
   "metadata": {
    "ExecuteTime": {
     "end_time": "2025-08-04T19:52:25.394380Z",
     "start_time": "2025-08-04T19:52:25.389549Z"
    }
   },
   "cell_type": "code",
   "source": "# ds_training.stats()",
   "id": "97f747e3825d5c72",
   "outputs": [],
   "execution_count": 6
  },
  {
   "metadata": {
    "ExecuteTime": {
     "end_time": "2025-08-04T19:52:25.451679Z",
     "start_time": "2025-08-04T19:52:25.444669Z"
    }
   },
   "cell_type": "code",
   "source": "# ds_test.stats()",
   "id": "2e98f211ae6ca663",
   "outputs": [],
   "execution_count": 7
  },
  {
   "metadata": {
    "jupyter": {
     "is_executing": true
    },
    "ExecuteTime": {
     "start_time": "2025-08-04T19:52:25.498377Z"
    }
   },
   "cell_type": "code",
   "source": [
    "dataset.preload_cache()\n",
    "# # ——————————————#\n",
    "# # Asume que ya inicializaste tu experiment:\n",
    "# # experiment = Experiment(api_key=\"…\", project_name=\"…\", workspace=\"…\")\n",
    "# # ——————————————#\n",
    "# \n",
    "# from tensorflow.keras.regularizers import l1_l2\n",
    "# from tensorflow.keras.optimizers import Adam\n",
    "# from tensorflow.keras.models import Model\n",
    "# from tensorflow.keras.layers import (\n",
    "#     GlobalAveragePooling2D,\n",
    "#     Dense,\n",
    "#     BatchNormalization,\n",
    "#     Dropout\n",
    "# )\n",
    "from tensorflow.keras.applications.inception_v3 import InceptionV3, preprocess_input\n",
    "\n",
    "# from tensorflow.keras.metrics import AUC\n",
    "# \n",
    "# # 1. Hiperparámetros\n",
    "hparams = {\n",
    "    'IMG_SIZE': (299, 299),\n",
    "    'BATCH_SIZE': 32,\n",
    "    'EPOCHS': 10,\n",
    "    'l1_reg': 1e-4,\n",
    "    'l2_reg': 1e-4,\n",
    "    'dropout_rate': 0.4,\n",
    "    'learning_rate': 1e-4,\n",
    "    'BACKBONE': 'InceptionV3'\n",
    "}\n",
    "# experiment.log_parameters(hparams)\n",
    "# \n",
    "# # 2. Generadores\n",
    "# train_generator = PatchSequence(\n",
    "#     ds_training,\n",
    "#     batch_size=hparams['BATCH_SIZE'],\n",
    "#     patch_size=hparams['IMG_SIZE'],\n",
    "#     shuffle=True,\n",
    "#     preprocess_fn=preprocess_input\n",
    "# )\n",
    "# val_generator = PatchSequence(\n",
    "#     ds_test,\n",
    "#     batch_size=hparams['BATCH_SIZE'],\n",
    "#     patch_size=hparams['IMG_SIZE'],\n",
    "#     shuffle=False,\n",
    "#     preprocess_fn=preprocess_input\n",
    "# )\n",
    "# \n",
    "# # 3. Construcción del modelo\n",
    "# base = InceptionV3(\n",
    "#     weights='imagenet',\n",
    "#     include_top=False,\n",
    "#     input_shape=(*hparams['IMG_SIZE'], 3)\n",
    "# )\n",
    "# for layer in base.layers:\n",
    "#     layer.trainable = False\n",
    "# \n",
    "# x = base.output\n",
    "# x = GlobalAveragePooling2D()(x)\n",
    "# x = Dense(\n",
    "#     512,\n",
    "#     activation='relu',\n",
    "#     kernel_regularizer=l1_l2(hparams['l1_reg'], hparams['l2_reg'])\n",
    "# )(x)\n",
    "# x = BatchNormalization()(x)\n",
    "# x = Dropout(hparams['dropout_rate'])(x)\n",
    "# output = Dense(1, activation='sigmoid')(x)\n",
    "# \n",
    "# model = Model(inputs=base.input, outputs=output)\n",
    "# \n",
    "# # 4. Compilación con AUC ROC\n",
    "# model.compile(\n",
    "#     optimizer=Adam(learning_rate=hparams['learning_rate']),\n",
    "#     loss='binary_crossentropy',\n",
    "#     metrics=[\n",
    "#         'accuracy',\n",
    "#         AUC(name='auc_roc', curve='ROC')\n",
    "#     ]\n",
    "# )\n",
    "# \n",
    "# # 5. Entrenamiento con callback de Comet\n",
    "# keras_callback = Experiment.get_callback('keras')\n",
    "# model.fit(\n",
    "#     train_generator,\n",
    "#     validation_data=val_generator,\n",
    "#     epochs=hparams['EPOCHS'],\n",
    "#     steps_per_epoch=len(train_generator),\n",
    "#     validation_steps=len(val_generator),\n",
    "#     callbacks=[keras_callback]\n",
    "# )\n"
   ],
   "id": "b88eeb62fc6ad40e",
   "outputs": [
    {
     "name": "stderr",
     "output_type": "stream",
     "text": [
      "Preloading cache:   2%|▏         | 334/20000 [00:06<05:43, 57.19it/s]"
     ]
    }
   ],
   "execution_count": null
  },
  {
   "metadata": {},
   "cell_type": "code",
   "source": [
    "generator = PatchSequence(\n",
    "    dataset,\n",
    "    batch_size=hparams['BATCH_SIZE'],\n",
    "    patch_size=hparams['IMG_SIZE'],\n",
    "    shuffle=True,\n",
    "    preprocess_fn=None\n",
    ")\n",
    "# for x_batch, y_batch in train_generator:\n",
    "#     # x_batch: tensor de imágenes, y_batch: etiquetas\n",
    "#     print(x_batch.shape, y_batch.shape)\n",
    "#     # aquí p.ej. inspeccionas, guardas, o pasas por model.train_on_batch()"
   ],
   "id": "7a1f5a7101241ab7",
   "outputs": [],
   "execution_count": null
  },
  {
   "metadata": {},
   "cell_type": "code",
   "source": "# train_generator.",
   "id": "c417c231b93c6b79",
   "outputs": [],
   "execution_count": null
  },
  {
   "metadata": {},
   "cell_type": "code",
   "source": "# generator.__len__()",
   "id": "8c9b15be2faae39d",
   "outputs": [],
   "execution_count": null
  },
  {
   "metadata": {},
   "cell_type": "code",
   "source": "",
   "id": "bc80749f94f10ad9",
   "outputs": [],
   "execution_count": null
  },
  {
   "metadata": {},
   "cell_type": "code",
   "source": "x0, y0 = generator[0]\n",
   "id": "ced1488250d2850",
   "outputs": [],
   "execution_count": null
  },
  {
   "metadata": {},
   "cell_type": "code",
   "source": "plt.imshow(x0[0].astype(\"int\"))",
   "id": "af5d7663cd599e78",
   "outputs": [],
   "execution_count": null
  },
  {
   "metadata": {},
   "cell_type": "code",
   "source": [
    "# for x_batch, y_batch in generator:\n",
    "#     # x_batch: tensor de imágenes, y_batch: etiquetas\n",
    "#     print(x_batch.shape, y_batch.shape)\n",
    "#     # aquí p.ej. inspeccionas, guardas, o pasas por model.train_on_batch()"
   ],
   "id": "531b0ca649a17d21",
   "outputs": [],
   "execution_count": null
  }
 ],
 "metadata": {
  "kernelspec": {
   "display_name": "Python 3 (ipykernel)",
   "language": "python",
   "name": "python3"
  },
  "language_info": {
   "codemirror_mode": {
    "name": "ipython",
    "version": 3
   },
   "file_extension": ".py",
   "mimetype": "text/x-python",
   "name": "python",
   "nbconvert_exporter": "python",
   "pygments_lexer": "ipython3",
   "version": "3.11.2"
  }
 },
 "nbformat": 4,
 "nbformat_minor": 5
}
