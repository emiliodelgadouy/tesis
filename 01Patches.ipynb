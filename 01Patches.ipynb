{
 "cells": [
  {
   "metadata": {
    "ExecuteTime": {
     "end_time": "2025-08-01T23:46:10.240100Z",
     "start_time": "2025-08-01T23:46:10.146965Z"
    }
   },
   "cell_type": "code",
   "source": [
    "from comet_ml import start\n",
    "from matplotlib import pyplot as plt\n",
    "# \n",
    "# experiment = start(\n",
    "#     api_key=\"\",\n",
    "#     project_name=\"prueba\",\n",
    "#     workspace=\"emiliodelgadouy\"\n",
    "# )"
   ],
   "id": "490d20275f80662e",
   "outputs": [],
   "execution_count": 18
  },
  {
   "cell_type": "code",
   "id": "3cc937d55a2764d7",
   "metadata": {
    "ExecuteTime": {
     "end_time": "2025-08-01T23:46:10.327049Z",
     "start_time": "2025-08-01T23:46:10.253494Z"
    }
   },
   "source": [
    "from data.PatchSequence import PatchSequence\n",
    "%load_ext autoreload\n",
    "%autoreload 2\n",
    "%reload_ext autoreload"
   ],
   "outputs": [
    {
     "name": "stdout",
     "output_type": "stream",
     "text": [
      "The autoreload extension is already loaded. To reload it, use:\n",
      "  %reload_ext autoreload\n"
     ]
    }
   ],
   "execution_count": 19
  },
  {
   "cell_type": "code",
   "id": "initial_id",
   "metadata": {
    "ExecuteTime": {
     "end_time": "2025-08-01T23:46:10.426677Z",
     "start_time": "2025-08-01T23:46:10.375640Z"
    }
   },
   "source": [
    "from data.Dataset import Dataset"
   ],
   "outputs": [],
   "execution_count": 20
  },
  {
   "cell_type": "code",
   "id": "5e2d3655f2008167",
   "metadata": {
    "ExecuteTime": {
     "end_time": "2025-08-01T23:46:10.585194Z",
     "start_time": "2025-08-01T23:46:10.439908Z"
    }
   },
   "source": [
    "dataset = Dataset(lateralize=False, reduced=True, n=32)\n",
    "dataset.head()"
   ],
   "outputs": [
    {
     "data": {
      "text/plain": [
       "  laterality view  breast_birads  finding_birads     split        xmin  \\\n",
       "0          R   CC              4               4  training  485.695624   \n",
       "1          R  MLO              4               4  training  532.399692   \n",
       "2          R   CC              3               3  training  368.152714   \n",
       "3          R  MLO              3               3  training  162.492921   \n",
       "4          R   CC              4               4  training  403.582493   \n",
       "\n",
       "          ymin        xmax         ymax  \\\n",
       "0   985.773942  609.595900  1078.419728   \n",
       "1   743.812744  639.422675   812.095390   \n",
       "2   499.060222  816.519337  1287.129503   \n",
       "3   726.730749  729.029452  1105.680056   \n",
       "4  1078.254802  580.267104  1203.183844   \n",
       "\n",
       "                                                path  findings  \n",
       "0  data/images_original/48575a27b7c992427041a82fa...         1  \n",
       "1  data/images_original/48575a27b7c992427041a82fa...         1  \n",
       "2  data/images_original/75e8e48933289d70b407379a5...         1  \n",
       "3  data/images_original/75e8e48933289d70b407379a5...         1  \n",
       "4  data/images_original/c3487424fee1bdd4515b72dc3...         1  "
      ],
      "text/html": [
       "<div>\n",
       "<style scoped>\n",
       "    .dataframe tbody tr th:only-of-type {\n",
       "        vertical-align: middle;\n",
       "    }\n",
       "\n",
       "    .dataframe tbody tr th {\n",
       "        vertical-align: top;\n",
       "    }\n",
       "\n",
       "    .dataframe thead th {\n",
       "        text-align: right;\n",
       "    }\n",
       "</style>\n",
       "<table border=\"1\" class=\"dataframe\">\n",
       "  <thead>\n",
       "    <tr style=\"text-align: right;\">\n",
       "      <th></th>\n",
       "      <th>laterality</th>\n",
       "      <th>view</th>\n",
       "      <th>breast_birads</th>\n",
       "      <th>finding_birads</th>\n",
       "      <th>split</th>\n",
       "      <th>xmin</th>\n",
       "      <th>ymin</th>\n",
       "      <th>xmax</th>\n",
       "      <th>ymax</th>\n",
       "      <th>path</th>\n",
       "      <th>findings</th>\n",
       "    </tr>\n",
       "  </thead>\n",
       "  <tbody>\n",
       "    <tr>\n",
       "      <th>0</th>\n",
       "      <td>R</td>\n",
       "      <td>CC</td>\n",
       "      <td>4</td>\n",
       "      <td>4</td>\n",
       "      <td>training</td>\n",
       "      <td>485.695624</td>\n",
       "      <td>985.773942</td>\n",
       "      <td>609.595900</td>\n",
       "      <td>1078.419728</td>\n",
       "      <td>data/images_original/48575a27b7c992427041a82fa...</td>\n",
       "      <td>1</td>\n",
       "    </tr>\n",
       "    <tr>\n",
       "      <th>1</th>\n",
       "      <td>R</td>\n",
       "      <td>MLO</td>\n",
       "      <td>4</td>\n",
       "      <td>4</td>\n",
       "      <td>training</td>\n",
       "      <td>532.399692</td>\n",
       "      <td>743.812744</td>\n",
       "      <td>639.422675</td>\n",
       "      <td>812.095390</td>\n",
       "      <td>data/images_original/48575a27b7c992427041a82fa...</td>\n",
       "      <td>1</td>\n",
       "    </tr>\n",
       "    <tr>\n",
       "      <th>2</th>\n",
       "      <td>R</td>\n",
       "      <td>CC</td>\n",
       "      <td>3</td>\n",
       "      <td>3</td>\n",
       "      <td>training</td>\n",
       "      <td>368.152714</td>\n",
       "      <td>499.060222</td>\n",
       "      <td>816.519337</td>\n",
       "      <td>1287.129503</td>\n",
       "      <td>data/images_original/75e8e48933289d70b407379a5...</td>\n",
       "      <td>1</td>\n",
       "    </tr>\n",
       "    <tr>\n",
       "      <th>3</th>\n",
       "      <td>R</td>\n",
       "      <td>MLO</td>\n",
       "      <td>3</td>\n",
       "      <td>3</td>\n",
       "      <td>training</td>\n",
       "      <td>162.492921</td>\n",
       "      <td>726.730749</td>\n",
       "      <td>729.029452</td>\n",
       "      <td>1105.680056</td>\n",
       "      <td>data/images_original/75e8e48933289d70b407379a5...</td>\n",
       "      <td>1</td>\n",
       "    </tr>\n",
       "    <tr>\n",
       "      <th>4</th>\n",
       "      <td>R</td>\n",
       "      <td>CC</td>\n",
       "      <td>4</td>\n",
       "      <td>4</td>\n",
       "      <td>training</td>\n",
       "      <td>403.582493</td>\n",
       "      <td>1078.254802</td>\n",
       "      <td>580.267104</td>\n",
       "      <td>1203.183844</td>\n",
       "      <td>data/images_original/c3487424fee1bdd4515b72dc3...</td>\n",
       "      <td>1</td>\n",
       "    </tr>\n",
       "  </tbody>\n",
       "</table>\n",
       "</div>"
      ]
     },
     "execution_count": 21,
     "metadata": {},
     "output_type": "execute_result"
    }
   ],
   "execution_count": 21
  },
  {
   "metadata": {
    "ExecuteTime": {
     "end_time": "2025-08-01T23:46:10.694668Z",
     "start_time": "2025-08-01T23:46:10.640680Z"
    }
   },
   "cell_type": "code",
   "source": "dataset.iloc[0]",
   "id": "8e2d87b85eeb85d1",
   "outputs": [
    {
     "data": {
      "text/plain": [
       "laterality                                                        R\n",
       "view                                                             CC\n",
       "breast_birads                                                     4\n",
       "finding_birads                                                    4\n",
       "split                                                      training\n",
       "xmin                                                     485.695624\n",
       "ymin                                                     985.773942\n",
       "xmax                                                       609.5959\n",
       "ymax                                                    1078.419728\n",
       "path              data/images_original/48575a27b7c992427041a82fa...\n",
       "findings                                                          1\n",
       "Name: 0, dtype: object"
      ]
     },
     "execution_count": 22,
     "metadata": {},
     "output_type": "execute_result"
    }
   ],
   "execution_count": 22
  },
  {
   "cell_type": "code",
   "id": "3f343c04f0a10611",
   "metadata": {
    "ExecuteTime": {
     "end_time": "2025-08-01T23:46:10.803737Z",
     "start_time": "2025-08-01T23:46:10.762374Z"
    }
   },
   "source": "# dataset.head().render(render_sample_patch=True)",
   "outputs": [],
   "execution_count": 23
  },
  {
   "cell_type": "code",
   "id": "57c925a315651fc7",
   "metadata": {
    "ExecuteTime": {
     "end_time": "2025-08-01T23:46:10.875468Z",
     "start_time": "2025-08-01T23:46:10.821515Z"
    }
   },
   "source": [
    "ds_training = dataset[dataset[\"split\"] == \"training\"]\n",
    "ds_test = dataset[dataset[\"split\"] == \"test\"]"
   ],
   "outputs": [],
   "execution_count": 24
  },
  {
   "cell_type": "code",
   "id": "a635bc8d3622a78c",
   "metadata": {
    "ExecuteTime": {
     "end_time": "2025-08-01T23:46:11.025363Z",
     "start_time": "2025-08-01T23:46:10.909129Z"
    }
   },
   "source": "# dataset.stats()",
   "outputs": [],
   "execution_count": 25
  },
  {
   "metadata": {
    "ExecuteTime": {
     "end_time": "2025-08-01T23:46:11.114343Z",
     "start_time": "2025-08-01T23:46:11.038194Z"
    }
   },
   "cell_type": "code",
   "source": "# ds_training.stats()",
   "id": "97f747e3825d5c72",
   "outputs": [],
   "execution_count": 26
  },
  {
   "metadata": {
    "ExecuteTime": {
     "end_time": "2025-08-01T23:46:11.177124Z",
     "start_time": "2025-08-01T23:46:11.137829Z"
    }
   },
   "cell_type": "code",
   "source": "# ds_test.stats()",
   "id": "2e98f211ae6ca663",
   "outputs": [],
   "execution_count": 27
  },
  {
   "metadata": {
    "ExecuteTime": {
     "end_time": "2025-08-01T23:46:11.818236Z",
     "start_time": "2025-08-01T23:46:11.221522Z"
    }
   },
   "cell_type": "code",
   "source": [
    "dataset.preload_cache()\n",
    "# # ——————————————#\n",
    "# # Asume que ya inicializaste tu experiment:\n",
    "# # experiment = Experiment(api_key=\"…\", project_name=\"…\", workspace=\"…\")\n",
    "# # ——————————————#\n",
    "# \n",
    "# from tensorflow.keras.regularizers import l1_l2\n",
    "# from tensorflow.keras.optimizers import Adam\n",
    "# from tensorflow.keras.models import Model\n",
    "# from tensorflow.keras.layers import (\n",
    "#     GlobalAveragePooling2D,\n",
    "#     Dense,\n",
    "#     BatchNormalization,\n",
    "#     Dropout\n",
    "# )\n",
    "from tensorflow.keras.applications.inception_v3 import InceptionV3, preprocess_input\n",
    "\n",
    "# from tensorflow.keras.metrics import AUC\n",
    "# \n",
    "# # 1. Hiperparámetros\n",
    "hparams = {\n",
    "    'IMG_SIZE': (299, 299),\n",
    "    'BATCH_SIZE': 32,\n",
    "    'EPOCHS': 10,\n",
    "    'l1_reg': 1e-4,\n",
    "    'l2_reg': 1e-4,\n",
    "    'dropout_rate': 0.4,\n",
    "    'learning_rate': 1e-4,\n",
    "    'BACKBONE': 'InceptionV3'\n",
    "}\n",
    "# experiment.log_parameters(hparams)\n",
    "# \n",
    "# # 2. Generadores\n",
    "# train_generator = PatchSequence(\n",
    "#     ds_training,\n",
    "#     batch_size=hparams['BATCH_SIZE'],\n",
    "#     patch_size=hparams['IMG_SIZE'],\n",
    "#     shuffle=True,\n",
    "#     preprocess_fn=preprocess_input\n",
    "# )\n",
    "# val_generator = PatchSequence(\n",
    "#     ds_test,\n",
    "#     batch_size=hparams['BATCH_SIZE'],\n",
    "#     patch_size=hparams['IMG_SIZE'],\n",
    "#     shuffle=False,\n",
    "#     preprocess_fn=preprocess_input\n",
    "# )\n",
    "# \n",
    "# # 3. Construcción del modelo\n",
    "# base = InceptionV3(\n",
    "#     weights='imagenet',\n",
    "#     include_top=False,\n",
    "#     input_shape=(*hparams['IMG_SIZE'], 3)\n",
    "# )\n",
    "# for layer in base.layers:\n",
    "#     layer.trainable = False\n",
    "# \n",
    "# x = base.output\n",
    "# x = GlobalAveragePooling2D()(x)\n",
    "# x = Dense(\n",
    "#     512,\n",
    "#     activation='relu',\n",
    "#     kernel_regularizer=l1_l2(hparams['l1_reg'], hparams['l2_reg'])\n",
    "# )(x)\n",
    "# x = BatchNormalization()(x)\n",
    "# x = Dropout(hparams['dropout_rate'])(x)\n",
    "# output = Dense(1, activation='sigmoid')(x)\n",
    "# \n",
    "# model = Model(inputs=base.input, outputs=output)\n",
    "# \n",
    "# # 4. Compilación con AUC ROC\n",
    "# model.compile(\n",
    "#     optimizer=Adam(learning_rate=hparams['learning_rate']),\n",
    "#     loss='binary_crossentropy',\n",
    "#     metrics=[\n",
    "#         'accuracy',\n",
    "#         AUC(name='auc_roc', curve='ROC')\n",
    "#     ]\n",
    "# )\n",
    "# \n",
    "# # 5. Entrenamiento con callback de Comet\n",
    "# keras_callback = Experiment.get_callback('keras')\n",
    "# model.fit(\n",
    "#     train_generator,\n",
    "#     validation_data=val_generator,\n",
    "#     epochs=hparams['EPOCHS'],\n",
    "#     steps_per_epoch=len(train_generator),\n",
    "#     validation_steps=len(val_generator),\n",
    "#     callbacks=[keras_callback]\n",
    "# )\n"
   ],
   "id": "b88eeb62fc6ad40e",
   "outputs": [
    {
     "name": "stderr",
     "output_type": "stream",
     "text": [
      "Preloading cache: 100%|██████████| 30/30 [00:00<00:00, 62.26it/s]\n"
     ]
    }
   ],
   "execution_count": 28
  },
  {
   "metadata": {
    "ExecuteTime": {
     "end_time": "2025-08-01T23:46:11.946688Z",
     "start_time": "2025-08-01T23:46:11.861019Z"
    }
   },
   "cell_type": "code",
   "source": [
    "generator = PatchSequence(\n",
    "    dataset,\n",
    "    batch_size=hparams['BATCH_SIZE'],\n",
    "    patch_size=hparams['IMG_SIZE'],\n",
    "    shuffle=True,\n",
    "    preprocess_fn=None\n",
    ")\n",
    "# for x_batch, y_batch in train_generator:\n",
    "#     # x_batch: tensor de imágenes, y_batch: etiquetas\n",
    "#     print(x_batch.shape, y_batch.shape)\n",
    "#     # aquí p.ej. inspeccionas, guardas, o pasas por model.train_on_batch()"
   ],
   "id": "7a1f5a7101241ab7",
   "outputs": [],
   "execution_count": 29
  },
  {
   "metadata": {
    "ExecuteTime": {
     "end_time": "2025-08-01T23:46:12.105595Z",
     "start_time": "2025-08-01T23:46:12.010546Z"
    }
   },
   "cell_type": "code",
   "source": "# train_generator.",
   "id": "c417c231b93c6b79",
   "outputs": [],
   "execution_count": 30
  },
  {
   "metadata": {
    "ExecuteTime": {
     "end_time": "2025-08-01T23:46:12.300637Z",
     "start_time": "2025-08-01T23:46:12.162401Z"
    }
   },
   "cell_type": "code",
   "source": "# generator.__len__()",
   "id": "8c9b15be2faae39d",
   "outputs": [],
   "execution_count": 31
  },
  {
   "metadata": {
    "ExecuteTime": {
     "end_time": "2025-08-01T23:46:12.409822Z",
     "start_time": "2025-08-01T23:46:12.398623Z"
    }
   },
   "cell_type": "code",
   "source": "",
   "id": "bc80749f94f10ad9",
   "outputs": [],
   "execution_count": null
  },
  {
   "metadata": {
    "ExecuteTime": {
     "end_time": "2025-08-01T23:46:12.661794Z",
     "start_time": "2025-08-01T23:46:12.490581Z"
    }
   },
   "cell_type": "code",
   "source": "x0, y0 = generator[0]\n",
   "id": "ced1488250d2850",
   "outputs": [],
   "execution_count": 32
  },
  {
   "metadata": {
    "ExecuteTime": {
     "end_time": "2025-08-01T23:47:39.297568Z",
     "start_time": "2025-08-01T23:47:39.052914Z"
    }
   },
   "cell_type": "code",
   "source": "plt.imshow(x0[0].astype(\"int\"))",
   "id": "af5d7663cd599e78",
   "outputs": [
    {
     "data": {
      "text/plain": [
       "<matplotlib.image.AxesImage at 0x7fdee46f7ed0>"
      ]
     },
     "execution_count": 43,
     "metadata": {},
     "output_type": "execute_result"
    },
    {
     "data": {
      "text/plain": [
       "<Figure size 640x480 with 1 Axes>"
      ],
      "image/png": "[encoded data removed]"
     },
     "metadata": {},
     "output_type": "display_data"
    }
   ],
   "execution_count": 43
  },
  {
   "metadata": {
    "ExecuteTime": {
     "end_time": "2025-08-01T23:46:12.758486Z",
     "start_time": "2025-08-01T23:46:12.685595Z"
    }
   },
   "cell_type": "code",
   "source": [
    "# for x_batch, y_batch in generator:\n",
    "#     # x_batch: tensor de imágenes, y_batch: etiquetas\n",
    "#     print(x_batch.shape, y_batch.shape)\n",
    "#     # aquí p.ej. inspeccionas, guardas, o pasas por model.train_on_batch()"
   ],
   "id": "531b0ca649a17d21",
   "outputs": [],
   "execution_count": 33
  }
 ],
 "metadata": {
  "kernelspec": {
   "display_name": "Python 3 (ipykernel)",
   "language": "python",
   "name": "python3"
  },
  "language_info": {
   "codemirror_mode": {
    "name": "ipython",
    "version": 3
   },
   "file_extension": ".py",
   "mimetype": "text/x-python",
   "name": "python",
   "nbconvert_exporter": "python",
   "pygments_lexer": "ipython3",
   "version": "3.11.2"
  }
 },
 "nbformat": 4,
 "nbformat_minor": 5
}
