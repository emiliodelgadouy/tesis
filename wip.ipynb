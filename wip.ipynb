{
 "nbformat": 4,
 "nbformat_minor": 0,
 "metadata": {
  "colab": {
   "provenance": [],
   "machine_shape": "hm",
   "gpuType": "L4"
  },
  "kernelspec": {
   "name": "python3",
   "display_name": "Python 3 (ipykernel)",
   "language": "python"
  },
  "language_info": {
   "name": "python"
  },
  "accelerator": "GPU"
 },
 "cells": [
  {
   "metadata": {
    "ExecuteTime": {
     "end_time": "2025-08-15T00:54:24.884402Z",
     "start_time": "2025-08-15T00:54:23.419152Z"
    }
   },
   "cell_type": "code",
   "source": [
    "from comet_ml import Experiment\n",
    "# import tensorflow as tf\n",
    "# gpus = tf.config.list_physical_devices('GPU')\n",
    "# print(\"GPUs disponibles:\", gpus)\n"
   ],
   "outputs": [],
   "execution_count": 1
  },
  {
   "metadata": {
    "ExecuteTime": {
     "end_time": "2025-08-15T00:54:24.992116Z",
     "start_time": "2025-08-15T00:54:24.949459Z"
    }
   },
   "cell_type": "code",
   "source": [
    "import numpy as np\n",
    "%load_ext autoreload\n",
    "%autoreload 2\n",
    "%reload_ext autoreload"
   ],
   "outputs": [],
   "execution_count": 2
  },
  {
   "metadata": {
    "ExecuteTime": {
     "end_time": "2025-08-15T00:54:25.027425Z",
     "start_time": "2025-08-15T00:54:25.018510Z"
    }
   },
   "cell_type": "code",
   "source": "# !git clone https://github.com/emiliodelgadouy/utils.git",
   "outputs": [],
   "execution_count": 3
  },
  {
   "metadata": {
    "ExecuteTime": {
     "end_time": "2025-08-15T00:54:27.199787Z",
     "start_time": "2025-08-15T00:54:25.065091Z"
    }
   },
   "cell_type": "code",
   "source": [
    "from matplotlib import pyplot as plt\n",
    "from utils.PatchSequence import PatchSequence\n",
    "from utils.Dataset import Dataset"
   ],
   "outputs": [
    {
     "name": "stderr",
     "output_type": "stream",
     "text": [
      "2025-08-14 21:54:25.320339: E external/local_xla/xla/stream_executor/cuda/cuda_fft.cc:467] Unable to register cuFFT factory: Attempting to register factory for plugin cuFFT when one has already been registered\n",
      "WARNING: All log messages before absl::InitializeLog() is called are written to STDERR\n",
      "E0000 00:00:1755219265.332336   38342 cuda_dnn.cc:8579] Unable to register cuDNN factory: Attempting to register factory for plugin cuDNN when one has already been registered\n",
      "E0000 00:00:1755219265.335914   38342 cuda_blas.cc:1407] Unable to register cuBLAS factory: Attempting to register factory for plugin cuBLAS when one has already been registered\n",
      "W0000 00:00:1755219265.346048   38342 computation_placer.cc:177] computation placer already registered. Please check linkage and avoid linking the same target more than once.\n",
      "W0000 00:00:1755219265.346064   38342 computation_placer.cc:177] computation placer already registered. Please check linkage and avoid linking the same target more than once.\n",
      "W0000 00:00:1755219265.346066   38342 computation_placer.cc:177] computation placer already registered. Please check linkage and avoid linking the same target more than once.\n",
      "W0000 00:00:1755219265.346067   38342 computation_placer.cc:177] computation placer already registered. Please check linkage and avoid linking the same target more than once.\n",
      "2025-08-14 21:54:25.349300: I tensorflow/core/platform/cpu_feature_guard.cc:210] This TensorFlow binary is optimized to use available CPU instructions in performance-critical operations.\n",
      "To enable the following instructions: AVX2 FMA, in other operations, rebuild TensorFlow with the appropriate compiler flags.\n"
     ]
    }
   ],
   "execution_count": 4
  },
  {
   "metadata": {
    "ExecuteTime": {
     "end_time": "2025-08-15T00:54:27.651867Z",
     "start_time": "2025-08-15T00:54:27.207904Z"
    }
   },
   "cell_type": "code",
   "source": "dataset = Dataset(lateralize=True, dataset_csv=\"dataset_balanced.csv\")",
   "outputs": [
    {
     "name": "stderr",
     "output_type": "stream",
     "text": [
      "Flip BBoxes: 100%|██████████| 5858/5858 [00:00<00:00, 14608.96it/s]\n"
     ]
    }
   ],
   "execution_count": 5
  },
  {
   "metadata": {
    "ExecuteTime": {
     "end_time": "2025-08-15T00:54:27.693294Z",
     "start_time": "2025-08-15T00:54:27.669300Z"
    }
   },
   "cell_type": "code",
   "source": "# dataset.stats()",
   "outputs": [],
   "execution_count": 6
  },
  {
   "metadata": {
    "ExecuteTime": {
     "end_time": "2025-08-15T00:54:27.744057Z",
     "start_time": "2025-08-15T00:54:27.719140Z"
    }
   },
   "cell_type": "code",
   "source": [
    "# from google.colab import auth\n",
    "# auth.authenticate_user()\n",
    "# !sudo pip install --no-cache-dir -U crcmod\n",
    "# !gsutil cp gs://helen-data/dumps/dump_cache_reduced_half.npz ./"
   ],
   "outputs": [],
   "execution_count": 7
  },
  {
   "metadata": {
    "ExecuteTime": {
     "end_time": "2025-08-15T00:54:51.022853Z",
     "start_time": "2025-08-15T00:54:27.769261Z"
    }
   },
   "cell_type": "code",
   "source": [
    "dataset.load_dump('dump_cache_balanced.npz')\n",
    "# dataset.load_dump('dump_cache_reduced_half.npz')"
   ],
   "outputs": [],
   "execution_count": 8
  },
  {
   "metadata": {
    "ExecuteTime": {
     "end_time": "2025-08-15T00:54:51.057191Z",
     "start_time": "2025-08-15T00:54:51.033645Z"
    }
   },
   "cell_type": "code",
   "source": "# dataset.stats()",
   "outputs": [],
   "execution_count": 9
  },
  {
   "metadata": {
    "ExecuteTime": {
     "end_time": "2025-08-15T00:54:51.107395Z",
     "start_time": "2025-08-15T00:54:51.083684Z"
    }
   },
   "cell_type": "code",
   "source": [
    "IMG_SIZE = (299, 299)\n",
    "BATCH_SIZE = 32\n",
    "EPOCHS = 800"
   ],
   "outputs": [],
   "execution_count": 10
  },
  {
   "metadata": {
    "ExecuteTime": {
     "end_time": "2025-08-15T00:54:51.213683Z",
     "start_time": "2025-08-15T00:54:51.133538Z"
    }
   },
   "cell_type": "code",
   "source": [
    "import gc\n",
    "import time\n",
    "import random\n",
    "import numpy as np\n",
    "import optuna\n",
    "import tensorflow as tf\n",
    "\n",
    "from tensorflow.keras.models import Model\n",
    "from tensorflow.keras.layers import GlobalAveragePooling2D, Dense, BatchNormalization, Dropout, GlobalMaxPooling2D\n",
    "from tensorflow.keras.regularizers import l1_l2\n",
    "from tensorflow.keras.optimizers import Adam\n",
    "from tensorflow.keras.metrics import AUC\n",
    "from sklearn.utils import class_weight\n",
    "from sklearn.model_selection import train_test_split\n",
    "from tensorflow.keras.applications.inception_v3 import InceptionV3, preprocess_input\n",
    "\n",
    "# Dividir dataset una sola vez\n",
    "full_train = dataset[(dataset[\"split\"] == \"training\")]\n",
    "ds_test    = dataset[(dataset[\"split\"] == \"test\")]\n",
    "ds_train, ds_val = train_test_split(\n",
    "    full_train,\n",
    "    test_size=0.20,\n",
    "    random_state=42,\n",
    "    stratify=full_train[\"findings\"]\n",
    ")\n",
    "\n",
    "def objective(trial):\n",
    "    # ==== SEEDS PARA REPRODUCIBILIDAD ====\n",
    "    random.seed(42)\n",
    "    np.random.seed(42)\n",
    "    tf.random.set_seed(42)\n",
    "\n",
    "    # ==== COMET ====\n",
    "    experiment = Experiment(\n",
    "        api_key=\"W8IluWhLfvXgLr8ggg1bwZKTf\",\n",
    "        project_name=\"analisis\",\n",
    "        workspace=\"emiliodelgadouy\",\n",
    "        auto_output_logging=\"simple\",\n",
    "        log_code=False\n",
    "    )\n",
    "    experiment.set_name(f\"trial_balanced_bug_{trial.number}\")\n",
    "\n",
    "    # ==== HIPERPARÁMETROS ====\n",
    "    learning_rate = trial.suggest_float('learning_rate', 1e-5, 1e-3, log=True)\n",
    "    dropout_rate  = trial.suggest_float('dropout_rate', 0.2, 0.6)\n",
    "    l2_reg        = trial.suggest_float('l2_reg', 1e-6, 1e-3, log=True)\n",
    "    unfreeze_pct  = trial.suggest_float(\"unfreeze_pct\", 0.0, 0.3)\n",
    "    optimizer     = Adam(learning_rate=learning_rate)\n",
    "\n",
    "    experiment.log_parameters({\n",
    "        \"learning_rate\": learning_rate,\n",
    "        \"dropout_rate\": dropout_rate,\n",
    "        \"l2_reg\": l2_reg,\n",
    "        \"backbone\": \"InceptionV3\",\n",
    "        \"batch_size\": BATCH_SIZE,\n",
    "        \"img_size\": IMG_SIZE,\n",
    "        \"epochs\": EPOCHS,\n",
    "        \"unfreeze_pct\": unfreeze_pct\n",
    "    })\n",
    "\n",
    "    # ==== GENERADORES ====\n",
    "    train_generator = PatchSequence(\n",
    "        ds_train,\n",
    "        batch_size=BATCH_SIZE,\n",
    "        patch_size=IMG_SIZE,\n",
    "        shuffle=True,\n",
    "        preprocess_fn=preprocess_input\n",
    "    )\n",
    "    val_generator = PatchSequence(\n",
    "        ds_val,\n",
    "        batch_size=BATCH_SIZE,\n",
    "        patch_size=IMG_SIZE,\n",
    "        shuffle=False,\n",
    "        preprocess_fn=preprocess_input\n",
    "    )\n",
    "    test_generator = PatchSequence(\n",
    "        ds_test,\n",
    "        batch_size=BATCH_SIZE,\n",
    "        patch_size=IMG_SIZE,\n",
    "        shuffle=False,\n",
    "        preprocess_fn=preprocess_input\n",
    "    )\n",
    "\n",
    "    # ==== BACKBONE ====\n",
    "    base = InceptionV3(\n",
    "        weights='imagenet',\n",
    "        include_top=False,\n",
    "        input_shape=(*IMG_SIZE, 3)\n",
    "    )\n",
    "    for layer in base.layers:\n",
    "        layer.trainable = False\n",
    "\n",
    "    # Unfreeze parcial\n",
    "    n_total = len(base.layers)\n",
    "    n_unfreeze = int(n_total * unfreeze_pct)\n",
    "    if n_unfreeze > 0:\n",
    "        for layer in base.layers[-n_unfreeze:]:\n",
    "            layer.trainable = True\n",
    "\n",
    "    # ==== PESOS DE CLASE ====\n",
    "    labels = np.array(ds_train[\"findings\"])\n",
    "    classes = np.unique(labels)\n",
    "    weights = class_weight.compute_class_weight('balanced', classes=classes, y=labels)\n",
    "    class_weights = dict(zip(classes, weights))\n",
    "\n",
    "    # ==== CABEZA DEL MODELO ====\n",
    "    x = base.output\n",
    "    x = GlobalMaxPooling2D()(x)\n",
    "    x = Dense(\n",
    "        512,\n",
    "        activation='relu',\n",
    "        kernel_regularizer=l1_l2(l1=1e-4, l2=l2_reg)\n",
    "    )(x)\n",
    "    x = BatchNormalization()(x)\n",
    "    x = Dropout(dropout_rate)(x)\n",
    "    output = Dense(1, activation='sigmoid')(x)\n",
    "\n",
    "    model = Model(inputs=base.input, outputs=output)\n",
    "    model.compile(\n",
    "        optimizer=optimizer,\n",
    "        loss='binary_crossentropy',\n",
    "        metrics=['accuracy', AUC(name='auc_roc', curve='ROC')]\n",
    "    )\n",
    "\n",
    "    # ==== ENTRENAMIENTO ====\n",
    "    t0 = time.time()\n",
    "    model.fit(\n",
    "        train_generator,\n",
    "        validation_data=val_generator,\n",
    "        epochs=EPOCHS,\n",
    "        class_weight=class_weights,\n",
    "        verbose=1\n",
    "    )\n",
    "    elapsed = time.time() - t0\n",
    "    experiment.log_metric(\"training_time_sec\", elapsed)\n",
    "\n",
    "    # ==== EVALUACIÓN EN TEST ====\n",
    "    score = model.evaluate(test_generator, verbose=1)\n",
    "    experiment.log_metric(\"final_test_loss\", score[0])\n",
    "    experiment.log_metric(\"final_test_accuracy\", score[1])\n",
    "    experiment.log_metric(\"final_test_auc_roc\", score[2])\n",
    "\n",
    "    experiment.end()\n",
    "\n",
    "    # ==== LIBERAR MEMORIA ====\n",
    "    del model, train_generator, val_generator, test_generator\n",
    "    tf.keras.backend.clear_session()\n",
    "    gc.collect()\n",
    "\n",
    "    return score[1]\n"
   ],
   "outputs": [],
   "execution_count": 11
  },
  {
   "metadata": {
    "jupyter": {
     "is_executing": true
    },
    "ExecuteTime": {
     "start_time": "2025-08-15T00:54:51.233856Z"
    }
   },
   "cell_type": "code",
   "source": [
    "study = optuna.create_study(direction='maximize', study_name='optuna_inception')\n",
    "study.optimize(objective, n_trials=20)\n",
    "\n",
    "print(\"accuracy\", study.best_value)\n",
    "print(\"params\", study.best_params)"
   ],
   "outputs": [
    {
     "name": "stderr",
     "output_type": "stream",
     "text": [
      "[I 2025-08-14 21:54:51,256] A new study created in memory with name: optuna_inception\n",
      "\u001B[1;38;5;214mCOMET WARNING:\u001B[0m As you are running in a Jupyter environment, you will need to call `experiment.end()` when finished to ensure all metrics and code are logged before exiting.\n",
      "\u001B[1;38;5;39mCOMET INFO:\u001B[0m Experiment is live on comet.com https://www.comet.com/emiliodelgadouy/analisis/df0bedcba67d436ea7c7e3900ebd4283\n",
      "\n",
      "I0000 00:00:1755219296.178878   38342 gpu_device.cc:2019] Created device /job:localhost/replica:0/task:0/device:GPU:0 with 9945 MB memory:  -> device: 0, name: NVIDIA GeForce RTX 3060, pci bus id: 0000:01:00.0, compute capability: 8.6\n",
      "\u001B[1;38;5;39mCOMET INFO:\u001B[0m Ignoring automatic log_parameter('verbose') because 'keras:verbose' is in COMET_LOGGING_PARAMETERS_IGNORE\n"
     ]
    },
    {
     "name": "stdout",
     "output_type": "stream",
     "text": [
      "Epoch 1/800\n"
     ]
    },
    {
     "name": "stderr",
     "output_type": "stream",
     "text": [
      "WARNING: All log messages before absl::InitializeLog() is called are written to STDERR\n",
      "I0000 00:00:1755219305.843626   38506 service.cc:152] XLA service 0x7bda90005200 initialized for platform CUDA (this does not guarantee that XLA will be used). Devices:\n",
      "I0000 00:00:1755219305.843656   38506 service.cc:160]   StreamExecutor device (0): NVIDIA GeForce RTX 3060, Compute Capability 8.6\n",
      "2025-08-14 21:55:06.126523: I tensorflow/compiler/mlir/tensorflow/utils/dump_mlir_util.cc:269] disabling MLIR crash reproducer, set env var `MLIR_CRASH_REPRODUCER_DIRECTORY` to enable.\n",
      "I0000 00:00:1755219307.725551   38506 cuda_dnn.cc:529] Loaded cuDNN version 90300\n"
     ]
    },
    {
     "name": "stdout",
     "output_type": "stream",
     "text": [
      "\u001B[1m 1/90\u001B[0m \u001B[37m━━━━━━━━━━━━━━━━━━━━\u001B[0m \u001B[1m38:17\u001B[0m 26s/step - accuracy: 0.5000 - auc_roc: 0.4686 - loss: 3.5139"
     ]
    },
    {
     "name": "stderr",
     "output_type": "stream",
     "text": [
      "I0000 00:00:1755219323.833877   38506 device_compiler.h:188] Compiled cluster using XLA!  This line is logged at most once for the lifetime of the process.\n"
     ]
    },
    {
     "name": "stdout",
     "output_type": "stream",
     "text": [
      "\u001B[1m90/90\u001B[0m \u001B[32m━━━━━━━━━━━━━━━━━━━━\u001B[0m\u001B[37m\u001B[0m \u001B[1m43s\u001B[0m 196ms/step - accuracy: 0.5747 - auc_roc: 0.5935 - loss: 3.2838 - val_accuracy: 0.5440 - val_auc_roc: 0.6145 - val_loss: 3.2895\n",
      "Epoch 2/800\n",
      "\u001B[1m90/90\u001B[0m \u001B[32m━━━━━━━━━━━━━━━━━━━━\u001B[0m\u001B[37m\u001B[0m \u001B[1m13s\u001B[0m 148ms/step - accuracy: 0.5844 - auc_roc: 0.6146 - loss: 3.0247 - val_accuracy: 0.5241 - val_auc_roc: 0.6284 - val_loss: 2.9718\n",
      "Epoch 3/800\n",
      "\u001B[1m90/90\u001B[0m \u001B[32m━━━━━━━━━━━━━━━━━━━━\u001B[0m\u001B[37m\u001B[0m \u001B[1m13s\u001B[0m 149ms/step - accuracy: 0.5802 - auc_roc: 0.6217 - loss: 2.8428 - val_accuracy: 0.5128 - val_auc_roc: 0.6619 - val_loss: 2.8162\n",
      "Epoch 4/800\n",
      "\u001B[1m90/90\u001B[0m \u001B[32m━━━━━━━━━━━━━━━━━━━━\u001B[0m\u001B[37m\u001B[0m \u001B[1m14s\u001B[0m 151ms/step - accuracy: 0.5965 - auc_roc: 0.6333 - loss: 2.6608 - val_accuracy: 0.6094 - val_auc_roc: 0.7091 - val_loss: 2.6174\n",
      "Epoch 5/800\n",
      "\u001B[1m90/90\u001B[0m \u001B[32m━━━━━━━━━━━━━━━━━━━━\u001B[0m\u001B[37m\u001B[0m \u001B[1m14s\u001B[0m 159ms/step - accuracy: 0.6038 - auc_roc: 0.6442 - loss: 2.5010 - val_accuracy: 0.6193 - val_auc_roc: 0.6697 - val_loss: 2.4567\n",
      "Epoch 6/800\n",
      "\u001B[1m90/90\u001B[0m \u001B[32m━━━━━━━━━━━━━━━━━━━━\u001B[0m\u001B[37m\u001B[0m \u001B[1m14s\u001B[0m 157ms/step - accuracy: 0.6146 - auc_roc: 0.6519 - loss: 2.3447 - val_accuracy: 0.5696 - val_auc_roc: 0.7062 - val_loss: 2.2622\n",
      "Epoch 7/800\n",
      "\u001B[1m90/90\u001B[0m \u001B[32m━━━━━━━━━━━━━━━━━━━━\u001B[0m\u001B[37m\u001B[0m \u001B[1m14s\u001B[0m 159ms/step - accuracy: 0.6243 - auc_roc: 0.6703 - loss: 2.1992 - val_accuracy: 0.5682 - val_auc_roc: 0.7009 - val_loss: 2.1575\n",
      "Epoch 8/800\n",
      "\u001B[1m90/90\u001B[0m \u001B[32m━━━━━━━━━━━━━━━━━━━━\u001B[0m\u001B[37m\u001B[0m \u001B[1m14s\u001B[0m 159ms/step - accuracy: 0.6264 - auc_roc: 0.6814 - loss: 2.0685 - val_accuracy: 0.6307 - val_auc_roc: 0.7016 - val_loss: 1.9637\n",
      "Epoch 9/800\n",
      "\u001B[1m90/90\u001B[0m \u001B[32m━━━━━━━━━━━━━━━━━━━━\u001B[0m\u001B[37m\u001B[0m \u001B[1m14s\u001B[0m 158ms/step - accuracy: 0.6306 - auc_roc: 0.6819 - loss: 1.9556 - val_accuracy: 0.6605 - val_auc_roc: 0.7179 - val_loss: 1.9758\n",
      "Epoch 10/800\n",
      "\u001B[1m90/90\u001B[0m \u001B[32m━━━━━━━━━━━━━━━━━━━━\u001B[0m\u001B[37m\u001B[0m \u001B[1m14s\u001B[0m 154ms/step - accuracy: 0.6389 - auc_roc: 0.6745 - loss: 1.8273 - val_accuracy: 0.6577 - val_auc_roc: 0.6905 - val_loss: 1.7322\n",
      "Epoch 11/800\n",
      "\u001B[1m90/90\u001B[0m \u001B[32m━━━━━━━━━━━━━━━━━━━━\u001B[0m\u001B[37m\u001B[0m \u001B[1m14s\u001B[0m 154ms/step - accuracy: 0.6389 - auc_roc: 0.6755 - loss: 1.7256 - val_accuracy: 0.6634 - val_auc_roc: 0.7071 - val_loss: 1.6183\n",
      "Epoch 12/800\n",
      "\u001B[1m90/90\u001B[0m \u001B[32m━━━━━━━━━━━━━━━━━━━━\u001B[0m\u001B[37m\u001B[0m \u001B[1m14s\u001B[0m 152ms/step - accuracy: 0.6385 - auc_roc: 0.6784 - loss: 1.6180 - val_accuracy: 0.5327 - val_auc_roc: 0.7248 - val_loss: 1.5924\n",
      "Epoch 13/800\n",
      "\u001B[1m90/90\u001B[0m \u001B[32m━━━━━━━━━━━━━━━━━━━━\u001B[0m\u001B[37m\u001B[0m \u001B[1m14s\u001B[0m 153ms/step - accuracy: 0.6486 - auc_roc: 0.6880 - loss: 1.5370 - val_accuracy: 0.6761 - val_auc_roc: 0.7383 - val_loss: 1.4376\n",
      "Epoch 14/800\n",
      "\u001B[1m90/90\u001B[0m \u001B[32m━━━━━━━━━━━━━━━━━━━━\u001B[0m\u001B[37m\u001B[0m \u001B[1m14s\u001B[0m 153ms/step - accuracy: 0.6347 - auc_roc: 0.6871 - loss: 1.4389 - val_accuracy: 0.6065 - val_auc_roc: 0.7172 - val_loss: 1.4101\n",
      "Epoch 15/800\n",
      "\u001B[1m90/90\u001B[0m \u001B[32m━━━━━━━━━━━━━━━━━━━━\u001B[0m\u001B[37m\u001B[0m \u001B[1m14s\u001B[0m 152ms/step - accuracy: 0.6417 - auc_roc: 0.6879 - loss: 1.3584 - val_accuracy: 0.6506 - val_auc_roc: 0.6876 - val_loss: 1.2829\n",
      "Epoch 16/800\n",
      "\u001B[1m90/90\u001B[0m \u001B[32m━━━━━━━━━━━━━━━━━━━━\u001B[0m\u001B[37m\u001B[0m \u001B[1m14s\u001B[0m 153ms/step - accuracy: 0.6503 - auc_roc: 0.6866 - loss: 1.2962 - val_accuracy: 0.6491 - val_auc_roc: 0.6941 - val_loss: 1.3006\n",
      "Epoch 17/800\n",
      "\u001B[1m90/90\u001B[0m \u001B[32m━━━━━━━━━━━━━━━━━━━━\u001B[0m\u001B[37m\u001B[0m \u001B[1m14s\u001B[0m 152ms/step - accuracy: 0.6580 - auc_roc: 0.7080 - loss: 1.2251 - val_accuracy: 0.6619 - val_auc_roc: 0.7324 - val_loss: 1.1511\n",
      "Epoch 18/800\n",
      "\u001B[1m90/90\u001B[0m \u001B[32m━━━━━━━━━━━━━━━━━━━━\u001B[0m\u001B[37m\u001B[0m \u001B[1m14s\u001B[0m 152ms/step - accuracy: 0.6448 - auc_roc: 0.6892 - loss: 1.1704 - val_accuracy: 0.6506 - val_auc_roc: 0.7234 - val_loss: 1.1086\n",
      "Epoch 19/800\n",
      "\u001B[1m90/90\u001B[0m \u001B[32m━━━━━━━━━━━━━━━━━━━━\u001B[0m\u001B[37m\u001B[0m \u001B[1m14s\u001B[0m 153ms/step - accuracy: 0.6635 - auc_roc: 0.7077 - loss: 1.1043 - val_accuracy: 0.6690 - val_auc_roc: 0.7104 - val_loss: 1.0559\n",
      "Epoch 20/800\n",
      "\u001B[1m90/90\u001B[0m \u001B[32m━━━━━━━━━━━━━━━━━━━━\u001B[0m\u001B[37m\u001B[0m \u001B[1m14s\u001B[0m 153ms/step - accuracy: 0.6545 - auc_roc: 0.7056 - loss: 1.0684 - val_accuracy: 0.6335 - val_auc_roc: 0.6743 - val_loss: 1.0807\n",
      "Epoch 21/800\n",
      "\u001B[1m90/90\u001B[0m \u001B[32m━━━━━━━━━━━━━━━━━━━━\u001B[0m\u001B[37m\u001B[0m \u001B[1m14s\u001B[0m 154ms/step - accuracy: 0.6549 - auc_roc: 0.7080 - loss: 1.0164 - val_accuracy: 0.6364 - val_auc_roc: 0.7097 - val_loss: 1.0011\n",
      "Epoch 22/800\n",
      "\u001B[1m90/90\u001B[0m \u001B[32m━━━━━━━━━━━━━━━━━━━━\u001B[0m\u001B[37m\u001B[0m \u001B[1m14s\u001B[0m 153ms/step - accuracy: 0.6503 - auc_roc: 0.6964 - loss: 0.9925 - val_accuracy: 0.6733 - val_auc_roc: 0.7153 - val_loss: 0.9453\n",
      "Epoch 23/800\n",
      "\u001B[1m90/90\u001B[0m \u001B[32m━━━━━━━━━━━━━━━━━━━━\u001B[0m\u001B[37m\u001B[0m \u001B[1m14s\u001B[0m 154ms/step - accuracy: 0.6392 - auc_roc: 0.6890 - loss: 0.9710 - val_accuracy: 0.6321 - val_auc_roc: 0.6927 - val_loss: 0.9431\n",
      "Epoch 24/800\n",
      "\u001B[1m90/90\u001B[0m \u001B[32m━━━━━━━━━━━━━━━━━━━━\u001B[0m\u001B[37m\u001B[0m \u001B[1m14s\u001B[0m 152ms/step - accuracy: 0.6486 - auc_roc: 0.6912 - loss: 0.9279 - val_accuracy: 0.6634 - val_auc_roc: 0.7126 - val_loss: 0.9053\n",
      "Epoch 25/800\n",
      "\u001B[1m90/90\u001B[0m \u001B[32m━━━━━━━━━━━━━━━━━━━━\u001B[0m\u001B[37m\u001B[0m \u001B[1m14s\u001B[0m 153ms/step - accuracy: 0.6719 - auc_roc: 0.7153 - loss: 0.8913 - val_accuracy: 0.6264 - val_auc_roc: 0.6854 - val_loss: 0.9555\n",
      "Epoch 26/800\n",
      "\u001B[1m90/90\u001B[0m \u001B[32m━━━━━━━━━━━━━━━━━━━━\u001B[0m\u001B[37m\u001B[0m \u001B[1m14s\u001B[0m 153ms/step - accuracy: 0.6545 - auc_roc: 0.7083 - loss: 0.8805 - val_accuracy: 0.6562 - val_auc_roc: 0.7096 - val_loss: 0.8417\n",
      "Epoch 27/800\n",
      "\u001B[1m90/90\u001B[0m \u001B[32m━━━━━━━━━━━━━━━━━━━━\u001B[0m\u001B[37m\u001B[0m \u001B[1m14s\u001B[0m 153ms/step - accuracy: 0.6510 - auc_roc: 0.6886 - loss: 0.8759 - val_accuracy: 0.6278 - val_auc_roc: 0.6871 - val_loss: 0.8444\n",
      "Epoch 28/800\n",
      "\u001B[1m90/90\u001B[0m \u001B[32m━━━━━━━━━━━━━━━━━━━━\u001B[0m\u001B[37m\u001B[0m \u001B[1m14s\u001B[0m 153ms/step - accuracy: 0.6490 - auc_roc: 0.6941 - loss: 0.8532 - val_accuracy: 0.6619 - val_auc_roc: 0.7239 - val_loss: 0.8024\n",
      "Epoch 29/800\n",
      "\u001B[1m90/90\u001B[0m \u001B[32m━━━━━━━━━━━━━━━━━━━━\u001B[0m\u001B[37m\u001B[0m \u001B[1m14s\u001B[0m 154ms/step - accuracy: 0.6531 - auc_roc: 0.6926 - loss: 0.8419 - val_accuracy: 0.6108 - val_auc_roc: 0.7005 - val_loss: 0.8491\n",
      "Epoch 30/800\n",
      "\u001B[1m90/90\u001B[0m \u001B[32m━━━━━━━━━━━━━━━━━━━━\u001B[0m\u001B[37m\u001B[0m \u001B[1m14s\u001B[0m 153ms/step - accuracy: 0.6521 - auc_roc: 0.7107 - loss: 0.8119 - val_accuracy: 0.6761 - val_auc_roc: 0.7276 - val_loss: 0.7738\n",
      "Epoch 31/800\n",
      "\u001B[1m90/90\u001B[0m \u001B[32m━━━━━━━━━━━━━━━━━━━━\u001B[0m\u001B[37m\u001B[0m \u001B[1m14s\u001B[0m 154ms/step - accuracy: 0.6611 - auc_roc: 0.7033 - loss: 0.8061 - val_accuracy: 0.6591 - val_auc_roc: 0.7317 - val_loss: 0.8437\n",
      "Epoch 32/800\n",
      "\u001B[1m90/90\u001B[0m \u001B[32m━━━━━━━━━━━━━━━━━━━━\u001B[0m\u001B[37m\u001B[0m \u001B[1m14s\u001B[0m 153ms/step - accuracy: 0.6559 - auc_roc: 0.7059 - loss: 0.8052 - val_accuracy: 0.6335 - val_auc_roc: 0.7122 - val_loss: 0.8168\n",
      "Epoch 33/800\n",
      "\u001B[1m90/90\u001B[0m \u001B[32m━━━━━━━━━━━━━━━━━━━━\u001B[0m\u001B[37m\u001B[0m \u001B[1m14s\u001B[0m 154ms/step - accuracy: 0.6486 - auc_roc: 0.7003 - loss: 0.8033 - val_accuracy: 0.6776 - val_auc_roc: 0.7214 - val_loss: 0.7777\n",
      "Epoch 34/800\n",
      "\u001B[1m90/90\u001B[0m \u001B[32m━━━━━━━━━━━━━━━━━━━━\u001B[0m\u001B[37m\u001B[0m \u001B[1m14s\u001B[0m 153ms/step - accuracy: 0.6500 - auc_roc: 0.7061 - loss: 0.7931 - val_accuracy: 0.6392 - val_auc_roc: 0.6982 - val_loss: 0.8405\n",
      "Epoch 35/800\n",
      "\u001B[1m90/90\u001B[0m \u001B[32m━━━━━━━━━━━━━━━━━━━━\u001B[0m\u001B[37m\u001B[0m \u001B[1m14s\u001B[0m 154ms/step - accuracy: 0.6615 - auc_roc: 0.7067 - loss: 0.7770 - val_accuracy: 0.6605 - val_auc_roc: 0.7080 - val_loss: 0.9033\n",
      "Epoch 36/800\n",
      "\u001B[1m90/90\u001B[0m \u001B[32m━━━━━━━━━━━━━━━━━━━━\u001B[0m\u001B[37m\u001B[0m \u001B[1m14s\u001B[0m 153ms/step - accuracy: 0.6708 - auc_roc: 0.7237 - loss: 0.7743 - val_accuracy: 0.6520 - val_auc_roc: 0.7198 - val_loss: 0.7728\n",
      "Epoch 37/800\n",
      "\u001B[1m90/90\u001B[0m \u001B[32m━━━━━━━━━━━━━━━━━━━━\u001B[0m\u001B[37m\u001B[0m \u001B[1m14s\u001B[0m 154ms/step - accuracy: 0.6635 - auc_roc: 0.7169 - loss: 0.7673 - val_accuracy: 0.6619 - val_auc_roc: 0.7062 - val_loss: 0.7461\n",
      "Epoch 38/800\n",
      "\u001B[1m90/90\u001B[0m \u001B[32m━━━━━━━━━━━━━━━━━━━━\u001B[0m\u001B[37m\u001B[0m \u001B[1m14s\u001B[0m 153ms/step - accuracy: 0.6503 - auc_roc: 0.7111 - loss: 0.7598 - val_accuracy: 0.6293 - val_auc_roc: 0.6985 - val_loss: 0.7905\n",
      "Epoch 39/800\n",
      "\u001B[1m90/90\u001B[0m \u001B[32m━━━━━━━━━━━━━━━━━━━━\u001B[0m\u001B[37m\u001B[0m \u001B[1m14s\u001B[0m 154ms/step - accuracy: 0.6646 - auc_roc: 0.7188 - loss: 0.7560 - val_accuracy: 0.6747 - val_auc_roc: 0.7318 - val_loss: 0.7349\n",
      "Epoch 40/800\n",
      "\u001B[1m90/90\u001B[0m \u001B[32m━━━━━━━━━━━━━━━━━━━━\u001B[0m\u001B[37m\u001B[0m \u001B[1m14s\u001B[0m 154ms/step - accuracy: 0.6639 - auc_roc: 0.7129 - loss: 0.7544 - val_accuracy: 0.6406 - val_auc_roc: 0.7274 - val_loss: 0.7322\n",
      "Epoch 41/800\n",
      "\u001B[1m90/90\u001B[0m \u001B[32m━━━━━━━━━━━━━━━━━━━━\u001B[0m\u001B[37m\u001B[0m \u001B[1m14s\u001B[0m 154ms/step - accuracy: 0.6653 - auc_roc: 0.7164 - loss: 0.7588 - val_accuracy: 0.6705 - val_auc_roc: 0.7348 - val_loss: 0.7221\n",
      "Epoch 42/800\n",
      "\u001B[1m90/90\u001B[0m \u001B[32m━━━━━━━━━━━━━━━━━━━━\u001B[0m\u001B[37m\u001B[0m \u001B[1m14s\u001B[0m 154ms/step - accuracy: 0.6583 - auc_roc: 0.7017 - loss: 0.7548 - val_accuracy: 0.6761 - val_auc_roc: 0.7402 - val_loss: 0.7215\n",
      "Epoch 43/800\n",
      "\u001B[1m90/90\u001B[0m \u001B[32m━━━━━━━━━━━━━━━━━━━━\u001B[0m\u001B[37m\u001B[0m \u001B[1m14s\u001B[0m 153ms/step - accuracy: 0.6670 - auc_roc: 0.7189 - loss: 0.7359 - val_accuracy: 0.6463 - val_auc_roc: 0.7235 - val_loss: 0.7644\n",
      "Epoch 44/800\n",
      "\u001B[1m90/90\u001B[0m \u001B[32m━━━━━━━━━━━━━━━━━━━━\u001B[0m\u001B[37m\u001B[0m \u001B[1m12s\u001B[0m 135ms/step - accuracy: 0.6681 - auc_roc: 0.7326 - loss: 0.7354 - val_accuracy: 0.6676 - val_auc_roc: 0.7206 - val_loss: 0.7518\n",
      "Epoch 45/800\n",
      "\u001B[1m90/90\u001B[0m \u001B[32m━━━━━━━━━━━━━━━━━━━━\u001B[0m\u001B[37m\u001B[0m \u001B[1m14s\u001B[0m 153ms/step - accuracy: 0.6660 - auc_roc: 0.7241 - loss: 0.7395 - val_accuracy: 0.6634 - val_auc_roc: 0.7166 - val_loss: 0.7343\n",
      "Epoch 46/800\n",
      "\u001B[1m90/90\u001B[0m \u001B[32m━━━━━━━━━━━━━━━━━━━━\u001B[0m\u001B[37m\u001B[0m \u001B[1m14s\u001B[0m 153ms/step - accuracy: 0.6677 - auc_roc: 0.7260 - loss: 0.7311 - val_accuracy: 0.6506 - val_auc_roc: 0.7162 - val_loss: 0.7420\n",
      "Epoch 47/800\n",
      "\u001B[1m90/90\u001B[0m \u001B[32m━━━━━━━━━━━━━━━━━━━━\u001B[0m\u001B[37m\u001B[0m \u001B[1m14s\u001B[0m 153ms/step - accuracy: 0.6656 - auc_roc: 0.7243 - loss: 0.7347 - val_accuracy: 0.6591 - val_auc_roc: 0.7175 - val_loss: 0.8025\n",
      "Epoch 48/800\n",
      "\u001B[1m90/90\u001B[0m \u001B[32m━━━━━━━━━━━━━━━━━━━━\u001B[0m\u001B[37m\u001B[0m \u001B[1m14s\u001B[0m 152ms/step - accuracy: 0.6708 - auc_roc: 0.7239 - loss: 0.7241 - val_accuracy: 0.6861 - val_auc_roc: 0.7350 - val_loss: 0.7108\n",
      "Epoch 49/800\n",
      "\u001B[1m90/90\u001B[0m \u001B[32m━━━━━━━━━━━━━━━━━━━━\u001B[0m\u001B[37m\u001B[0m \u001B[1m14s\u001B[0m 154ms/step - accuracy: 0.6795 - auc_roc: 0.7343 - loss: 0.7172 - val_accuracy: 0.6776 - val_auc_roc: 0.7395 - val_loss: 0.7298\n",
      "Epoch 50/800\n",
      "\u001B[1m90/90\u001B[0m \u001B[32m━━━━━━━━━━━━━━━━━━━━\u001B[0m\u001B[37m\u001B[0m \u001B[1m14s\u001B[0m 154ms/step - accuracy: 0.6753 - auc_roc: 0.7242 - loss: 0.7256 - val_accuracy: 0.6974 - val_auc_roc: 0.7394 - val_loss: 0.7049\n",
      "Epoch 51/800\n",
      "\u001B[1m90/90\u001B[0m \u001B[32m━━━━━━━━━━━━━━━━━━━━\u001B[0m\u001B[37m\u001B[0m \u001B[1m14s\u001B[0m 155ms/step - accuracy: 0.6608 - auc_roc: 0.7188 - loss: 0.7260 - val_accuracy: 0.6520 - val_auc_roc: 0.7093 - val_loss: 0.7550\n",
      "Epoch 52/800\n",
      "\u001B[1m90/90\u001B[0m \u001B[32m━━━━━━━━━━━━━━━━━━━━\u001B[0m\u001B[37m\u001B[0m \u001B[1m14s\u001B[0m 154ms/step - accuracy: 0.6729 - auc_roc: 0.7149 - loss: 0.7235 - val_accuracy: 0.6520 - val_auc_roc: 0.7243 - val_loss: 0.7455\n",
      "Epoch 53/800\n",
      "\u001B[1m90/90\u001B[0m \u001B[32m━━━━━━━━━━━━━━━━━━━━\u001B[0m\u001B[37m\u001B[0m \u001B[1m14s\u001B[0m 153ms/step - accuracy: 0.6642 - auc_roc: 0.7291 - loss: 0.7105 - val_accuracy: 0.6321 - val_auc_roc: 0.7080 - val_loss: 0.7375\n",
      "Epoch 54/800\n",
      "\u001B[1m90/90\u001B[0m \u001B[32m━━━━━━━━━━━━━━━━━━━━\u001B[0m\u001B[37m\u001B[0m \u001B[1m14s\u001B[0m 153ms/step - accuracy: 0.6809 - auc_roc: 0.7321 - loss: 0.7069 - val_accuracy: 0.6619 - val_auc_roc: 0.7254 - val_loss: 0.7442\n",
      "Epoch 55/800\n",
      "\u001B[1m90/90\u001B[0m \u001B[32m━━━━━━━━━━━━━━━━━━━━\u001B[0m\u001B[37m\u001B[0m \u001B[1m14s\u001B[0m 153ms/step - accuracy: 0.6625 - auc_roc: 0.7235 - loss: 0.7192 - val_accuracy: 0.6605 - val_auc_roc: 0.7273 - val_loss: 0.7016\n",
      "Epoch 56/800\n",
      "\u001B[1m90/90\u001B[0m \u001B[32m━━━━━━━━━━━━━━━━━━━━\u001B[0m\u001B[37m\u001B[0m \u001B[1m14s\u001B[0m 153ms/step - accuracy: 0.6722 - auc_roc: 0.7257 - loss: 0.7134 - val_accuracy: 0.6477 - val_auc_roc: 0.7251 - val_loss: 0.7082\n",
      "Epoch 57/800\n",
      "\u001B[1m90/90\u001B[0m \u001B[32m━━━━━━━━━━━━━━━━━━━━\u001B[0m\u001B[37m\u001B[0m \u001B[1m14s\u001B[0m 154ms/step - accuracy: 0.6639 - auc_roc: 0.7237 - loss: 0.7114 - val_accuracy: 0.6719 - val_auc_roc: 0.6995 - val_loss: 0.7091\n",
      "Epoch 58/800\n",
      "\u001B[1m90/90\u001B[0m \u001B[32m━━━━━━━━━━━━━━━━━━━━\u001B[0m\u001B[37m\u001B[0m \u001B[1m14s\u001B[0m 154ms/step - accuracy: 0.6681 - auc_roc: 0.7309 - loss: 0.7029 - val_accuracy: 0.6378 - val_auc_roc: 0.7114 - val_loss: 0.7069\n",
      "Epoch 59/800\n",
      "\u001B[1m90/90\u001B[0m \u001B[32m━━━━━━━━━━━━━━━━━━━━\u001B[0m\u001B[37m\u001B[0m \u001B[1m14s\u001B[0m 154ms/step - accuracy: 0.6698 - auc_roc: 0.7329 - loss: 0.6910 - val_accuracy: 0.6676 - val_auc_roc: 0.7181 - val_loss: 0.6832\n",
      "Epoch 60/800\n",
      "\u001B[1m90/90\u001B[0m \u001B[32m━━━━━━━━━━━━━━━━━━━━\u001B[0m\u001B[37m\u001B[0m \u001B[1m14s\u001B[0m 155ms/step - accuracy: 0.6663 - auc_roc: 0.7334 - loss: 0.6914 - val_accuracy: 0.6520 - val_auc_roc: 0.7114 - val_loss: 0.6934\n",
      "Epoch 61/800\n",
      "\u001B[1m90/90\u001B[0m \u001B[32m━━━━━━━━━━━━━━━━━━━━\u001B[0m\u001B[37m\u001B[0m \u001B[1m14s\u001B[0m 154ms/step - accuracy: 0.6788 - auc_roc: 0.7328 - loss: 0.6893 - val_accuracy: 0.6790 - val_auc_roc: 0.7342 - val_loss: 0.6747\n",
      "Epoch 62/800\n",
      "\u001B[1m90/90\u001B[0m \u001B[32m━━━━━━━━━━━━━━━━━━━━\u001B[0m\u001B[37m\u001B[0m \u001B[1m14s\u001B[0m 153ms/step - accuracy: 0.6812 - auc_roc: 0.7295 - loss: 0.6821 - val_accuracy: 0.5824 - val_auc_roc: 0.7360 - val_loss: 0.7117\n",
      "Epoch 63/800\n",
      "\u001B[1m90/90\u001B[0m \u001B[32m━━━━━━━━━━━━━━━━━━━━\u001B[0m\u001B[37m\u001B[0m \u001B[1m14s\u001B[0m 154ms/step - accuracy: 0.6757 - auc_roc: 0.7281 - loss: 0.6891 - val_accuracy: 0.6591 - val_auc_roc: 0.7300 - val_loss: 0.6780\n",
      "Epoch 64/800\n",
      "\u001B[1m90/90\u001B[0m \u001B[32m━━━━━━━━━━━━━━━━━━━━\u001B[0m\u001B[37m\u001B[0m \u001B[1m14s\u001B[0m 153ms/step - accuracy: 0.6597 - auc_roc: 0.7154 - loss: 0.6918 - val_accuracy: 0.6847 - val_auc_roc: 0.7469 - val_loss: 0.6683\n",
      "Epoch 65/800\n",
      "\u001B[1m90/90\u001B[0m \u001B[32m━━━━━━━━━━━━━━━━━━━━\u001B[0m\u001B[37m\u001B[0m \u001B[1m14s\u001B[0m 154ms/step - accuracy: 0.6524 - auc_roc: 0.7143 - loss: 0.6893 - val_accuracy: 0.6960 - val_auc_roc: 0.7481 - val_loss: 0.6619\n",
      "Epoch 66/800\n",
      "\u001B[1m90/90\u001B[0m \u001B[32m━━━━━━━━━━━━━━━━━━━━\u001B[0m\u001B[37m\u001B[0m \u001B[1m14s\u001B[0m 153ms/step - accuracy: 0.6753 - auc_roc: 0.7298 - loss: 0.6775 - val_accuracy: 0.6676 - val_auc_roc: 0.7192 - val_loss: 0.6657\n",
      "Epoch 67/800\n",
      "\u001B[1m90/90\u001B[0m \u001B[32m━━━━━━━━━━━━━━━━━━━━\u001B[0m\u001B[37m\u001B[0m \u001B[1m14s\u001B[0m 154ms/step - accuracy: 0.6726 - auc_roc: 0.7319 - loss: 0.6692 - val_accuracy: 0.6861 - val_auc_roc: 0.7532 - val_loss: 0.6612\n",
      "Epoch 68/800\n",
      "\u001B[1m90/90\u001B[0m \u001B[32m━━━━━━━━━━━━━━━━━━━━\u001B[0m\u001B[37m\u001B[0m \u001B[1m14s\u001B[0m 153ms/step - accuracy: 0.6642 - auc_roc: 0.7215 - loss: 0.6688 - val_accuracy: 0.6634 - val_auc_roc: 0.7184 - val_loss: 0.6816\n",
      "Epoch 69/800\n",
      "\u001B[1m90/90\u001B[0m \u001B[32m━━━━━━━━━━━━━━━━━━━━\u001B[0m\u001B[37m\u001B[0m \u001B[1m14s\u001B[0m 152ms/step - accuracy: 0.6757 - auc_roc: 0.7341 - loss: 0.6552 - val_accuracy: 0.5455 - val_auc_roc: 0.7472 - val_loss: 0.7077\n",
      "Epoch 70/800\n",
      "\u001B[1m90/90\u001B[0m \u001B[32m━━━━━━━━━━━━━━━━━━━━\u001B[0m\u001B[37m\u001B[0m \u001B[1m14s\u001B[0m 152ms/step - accuracy: 0.6806 - auc_roc: 0.7401 - loss: 0.6555 - val_accuracy: 0.6619 - val_auc_roc: 0.7074 - val_loss: 0.6854\n",
      "Epoch 71/800\n",
      "\u001B[1m90/90\u001B[0m \u001B[32m━━━━━━━━━━━━━━━━━━━━\u001B[0m\u001B[37m\u001B[0m \u001B[1m14s\u001B[0m 154ms/step - accuracy: 0.6788 - auc_roc: 0.7411 - loss: 0.6435 - val_accuracy: 0.6733 - val_auc_roc: 0.7250 - val_loss: 0.6414\n",
      "Epoch 72/800\n",
      "\u001B[1m90/90\u001B[0m \u001B[32m━━━━━━━━━━━━━━━━━━━━\u001B[0m\u001B[37m\u001B[0m \u001B[1m14s\u001B[0m 153ms/step - accuracy: 0.6774 - auc_roc: 0.7435 - loss: 0.6378 - val_accuracy: 0.6648 - val_auc_roc: 0.7032 - val_loss: 0.7208\n",
      "Epoch 73/800\n",
      "\u001B[1m90/90\u001B[0m \u001B[32m━━━━━━━━━━━━━━━━━━━━\u001B[0m\u001B[37m\u001B[0m \u001B[1m14s\u001B[0m 155ms/step - accuracy: 0.6847 - auc_roc: 0.7384 - loss: 0.6508 - val_accuracy: 0.6690 - val_auc_roc: 0.7508 - val_loss: 0.7743\n",
      "Epoch 74/800\n",
      "\u001B[1m90/90\u001B[0m \u001B[32m━━━━━━━━━━━━━━━━━━━━\u001B[0m\u001B[37m\u001B[0m \u001B[1m14s\u001B[0m 153ms/step - accuracy: 0.6764 - auc_roc: 0.7254 - loss: 0.6399 - val_accuracy: 0.6662 - val_auc_roc: 0.7054 - val_loss: 0.7547\n",
      "Epoch 75/800\n",
      "\u001B[1m90/90\u001B[0m \u001B[32m━━━━━━━━━━━━━━━━━━━━\u001B[0m\u001B[37m\u001B[0m \u001B[1m14s\u001B[0m 154ms/step - accuracy: 0.6865 - auc_roc: 0.7393 - loss: 0.6305 - val_accuracy: 0.6790 - val_auc_roc: 0.7585 - val_loss: 0.6272\n",
      "Epoch 76/800\n",
      "\u001B[1m90/90\u001B[0m \u001B[32m━━━━━━━━━━━━━━━━━━━━\u001B[0m\u001B[37m\u001B[0m \u001B[1m13s\u001B[0m 139ms/step - accuracy: 0.6931 - auc_roc: 0.7518 - loss: 0.6192 - val_accuracy: 0.6818 - val_auc_roc: 0.7168 - val_loss: 0.6315\n",
      "Epoch 77/800\n",
      "\u001B[1m90/90\u001B[0m \u001B[32m━━━━━━━━━━━━━━━━━━━━\u001B[0m\u001B[37m\u001B[0m \u001B[1m14s\u001B[0m 154ms/step - accuracy: 0.6736 - auc_roc: 0.7301 - loss: 0.6314 - val_accuracy: 0.6349 - val_auc_roc: 0.7303 - val_loss: 0.6426\n",
      "Epoch 78/800\n",
      "\u001B[1m90/90\u001B[0m \u001B[32m━━━━━━━━━━━━━━━━━━━━\u001B[0m\u001B[37m\u001B[0m \u001B[1m14s\u001B[0m 154ms/step - accuracy: 0.6802 - auc_roc: 0.7309 - loss: 0.6212 - val_accuracy: 0.6733 - val_auc_roc: 0.7393 - val_loss: 0.6181\n",
      "Epoch 79/800\n",
      "\u001B[1m90/90\u001B[0m \u001B[32m━━━━━━━━━━━━━━━━━━━━\u001B[0m\u001B[37m\u001B[0m \u001B[1m14s\u001B[0m 154ms/step - accuracy: 0.6851 - auc_roc: 0.7401 - loss: 0.6217 - val_accuracy: 0.6776 - val_auc_roc: 0.7200 - val_loss: 0.6598\n",
      "Epoch 80/800\n",
      "\u001B[1m90/90\u001B[0m \u001B[32m━━━━━━━━━━━━━━━━━━━━\u001B[0m\u001B[37m\u001B[0m \u001B[1m14s\u001B[0m 160ms/step - accuracy: 0.6799 - auc_roc: 0.7321 - loss: 0.6269 - val_accuracy: 0.6435 - val_auc_roc: 0.7181 - val_loss: 0.6442\n",
      "Epoch 81/800\n",
      "\u001B[1m90/90\u001B[0m \u001B[32m━━━━━━━━━━━━━━━━━━━━\u001B[0m\u001B[37m\u001B[0m \u001B[1m15s\u001B[0m 162ms/step - accuracy: 0.6760 - auc_roc: 0.7338 - loss: 0.6297 - val_accuracy: 0.6832 - val_auc_roc: 0.7353 - val_loss: 0.6450\n",
      "Epoch 82/800\n",
      "\u001B[1m90/90\u001B[0m \u001B[32m━━━━━━━━━━━━━━━━━━━━\u001B[0m\u001B[37m\u001B[0m \u001B[1m15s\u001B[0m 167ms/step - accuracy: 0.6885 - auc_roc: 0.7502 - loss: 0.6145 - val_accuracy: 0.6605 - val_auc_roc: 0.7433 - val_loss: 0.6217\n",
      "Epoch 83/800\n",
      "\u001B[1m90/90\u001B[0m \u001B[32m━━━━━━━━━━━━━━━━━━━━\u001B[0m\u001B[37m\u001B[0m \u001B[1m15s\u001B[0m 160ms/step - accuracy: 0.6865 - auc_roc: 0.7496 - loss: 0.6140 - val_accuracy: 0.6861 - val_auc_roc: 0.7588 - val_loss: 0.6078\n",
      "Epoch 84/800\n",
      "\u001B[1m90/90\u001B[0m \u001B[32m━━━━━━━━━━━━━━━━━━━━\u001B[0m\u001B[37m\u001B[0m \u001B[1m15s\u001B[0m 162ms/step - accuracy: 0.6823 - auc_roc: 0.7463 - loss: 0.6125 - val_accuracy: 0.5355 - val_auc_roc: 0.5012 - val_loss: 1.4305\n",
      "Epoch 85/800\n",
      "\u001B[1m90/90\u001B[0m \u001B[32m━━━━━━━━━━━━━━━━━━━━\u001B[0m\u001B[37m\u001B[0m \u001B[1m15s\u001B[0m 161ms/step - accuracy: 0.6892 - auc_roc: 0.7507 - loss: 0.6088 - val_accuracy: 0.6634 - val_auc_roc: 0.7211 - val_loss: 0.6255\n",
      "Epoch 86/800\n",
      "\u001B[1m90/90\u001B[0m \u001B[32m━━━━━━━━━━━━━━━━━━━━\u001B[0m\u001B[37m\u001B[0m \u001B[1m14s\u001B[0m 159ms/step - accuracy: 0.6694 - auc_roc: 0.7393 - loss: 0.6097 - val_accuracy: 0.6903 - val_auc_roc: 0.7709 - val_loss: 0.5888\n",
      "Epoch 87/800\n",
      "\u001B[1m90/90\u001B[0m \u001B[32m━━━━━━━━━━━━━━━━━━━━\u001B[0m\u001B[37m\u001B[0m \u001B[1m14s\u001B[0m 159ms/step - accuracy: 0.6698 - auc_roc: 0.7387 - loss: 0.6146 - val_accuracy: 0.6733 - val_auc_roc: 0.7385 - val_loss: 0.6196\n",
      "Epoch 88/800\n",
      "\u001B[1m90/90\u001B[0m \u001B[32m━━━━━━━━━━━━━━━━━━━━\u001B[0m\u001B[37m\u001B[0m \u001B[1m15s\u001B[0m 162ms/step - accuracy: 0.6781 - auc_roc: 0.7463 - loss: 0.6110 - val_accuracy: 0.6733 - val_auc_roc: 0.7091 - val_loss: 0.6513\n",
      "Epoch 89/800\n",
      "\u001B[1m90/90\u001B[0m \u001B[32m━━━━━━━━━━━━━━━━━━━━\u001B[0m\u001B[37m\u001B[0m \u001B[1m15s\u001B[0m 166ms/step - accuracy: 0.6851 - auc_roc: 0.7486 - loss: 0.6025 - val_accuracy: 0.6747 - val_auc_roc: 0.7361 - val_loss: 0.6081\n",
      "Epoch 90/800\n",
      "\u001B[1m90/90\u001B[0m \u001B[32m━━━━━━━━━━━━━━━━━━━━\u001B[0m\u001B[37m\u001B[0m \u001B[1m15s\u001B[0m 166ms/step - accuracy: 0.6882 - auc_roc: 0.7516 - loss: 0.6038 - val_accuracy: 0.6847 - val_auc_roc: 0.7375 - val_loss: 0.6175\n",
      "Epoch 91/800\n",
      "\u001B[1m87/90\u001B[0m \u001B[32m━━━━━━━━━━━━━━━━━━━\u001B[0m\u001B[37m━\u001B[0m \u001B[1m0s\u001B[0m 106ms/step - accuracy: 0.6666 - auc_roc: 0.7329 - loss: 0.6126"
     ]
    }
   ],
   "execution_count": null
  }
 ]
}
