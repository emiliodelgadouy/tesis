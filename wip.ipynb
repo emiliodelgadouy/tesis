{
 "nbformat": 4,
 "nbformat_minor": 0,
 "metadata": {
  "colab": {
   "provenance": [],
   "machine_shape": "hm",
   "gpuType": "L4"
  },
  "kernelspec": {
   "name": "python3",
   "display_name": "Python 3"
  },
  "language_info": {
   "name": "python"
  },
  "accelerator": "GPU"
 },
 "cells": [
  {
   "cell_type": "code",
   "source": [
    "%load_ext autoreload\n",
    "%autoreload 2\n",
    "%reload_ext autoreload"
   ],
   "metadata": {
    "id": "C3zMAWO32poy"
   },
   "outputs": [],
   "execution_count": null
  },
  {
   "cell_type": "code",
   "metadata": {
    "colab": {
     "base_uri": "https://localhost:8080/"
    },
    "id": "lpWXi0qApZJ8",
    "outputId": "d577fe58-5c18-4c9e-d5a9-d61cb724ae2f"
   },
   "source": [
    "!git clone https://github.com/emiliodelgadouy/utils.git"
   ],
   "outputs": [],
   "execution_count": null
  },
  {
   "cell_type": "code",
   "source": [
    "from matplotlib import pyplot as plt\n",
    "from utils.PatchSequence import PatchSequence\n",
    "from utils.Dataset import Dataset"
   ],
   "metadata": {
    "id": "F9g0HNWOpt-G"
   },
   "outputs": [],
   "execution_count": null
  },
  {
   "cell_type": "code",
   "source": [
    "dataset = Dataset(lateralize=False, reduced=True, n=500)"
   ],
   "metadata": {
    "id": "Rs6GOt-Jp1ax"
   },
   "outputs": [],
   "execution_count": null
  },
  {
   "cell_type": "code",
   "source": [
    "# from google.colab import auth\n",
    "# auth.authenticate_user()\n",
    "# !sudo pip install --no-cache-dir -U crcmod\n",
    "# !gsutil cp gs://helen-data/dumps/dump_cache_reduced.npz ./"
   ],
   "metadata": {
    "colab": {
     "base_uri": "https://localhost:8080/"
    },
    "id": "3Yjg3HGIp7aB",
    "outputId": "70645510-f70d-4559-84ca-c997a9142627"
   },
   "outputs": [],
   "execution_count": null
  },
  {
   "cell_type": "code",
   "source": [
    "dataset.load_dump('dump_cache_reduced.npz')"
   ],
   "metadata": {
    "id": "2-vfUn6Zq5Cu"
   },
   "outputs": [],
   "execution_count": null
  },
  {
   "cell_type": "code",
   "source": [
    "ds_training = dataset[dataset[\"split\"] == \"training\"]\n",
    "ds_test = dataset[dataset[\"split\"] == \"test\"]"
   ],
   "metadata": {
    "id": "h4GD1_v9sUMK"
   },
   "outputs": [],
   "execution_count": null
  },
  {
   "metadata": {},
   "cell_type": "markdown",
   "source": ""
  },
  {
   "cell_type": "code",
   "source": [
    "# hparams = {\n",
    "#     'IMG_SIZE': (299, 299),\n",
    "#     'BATCH_SIZE': 32,\n",
    "#     'EPOCHS': 1,\n",
    "#     'l1_reg': 1e-4,\n",
    "#     'l2_reg': 1e-4,\n",
    "#     'dropout_rate': 0.4,\n",
    "#     'learning_rate': 1e-4,\n",
    "#     'BACKBONE': 'InceptionV3'\n",
    "# }"
   ],
   "metadata": {
    "id": "rGVuoq-_rUVB",
    "ExecuteTime": {
     "end_time": "2025-08-05T18:17:00.704532Z",
     "start_time": "2025-08-05T18:17:00.661462Z"
    }
   },
   "outputs": [],
   "execution_count": 21
  },
  {
   "cell_type": "code",
   "source": [
    "from comet_ml import Experiment\n",
    "import optuna\n",
    "import time\n",
    "from tensorflow.keras.models import Model\n",
    "from tensorflow.keras.layers import GlobalAveragePooling2D, Dense, BatchNormalization, Dropout\n",
    "from tensorflow.keras.applications.inception_v3 import InceptionV3, preprocess_input\n",
    "from tensorflow.keras.regularizers import l1_l2\n",
    "from tensorflow.keras.optimizers import Adam\n",
    "from tensorflow.keras.metrics import AUC\n",
    "\n",
    "def objective(trial):\n",
    "    # Crear experimento en Comet\n",
    "    experiment = Experiment(\n",
    "\n",
    "        auto_output_logging=\"simple\",  # o \"native\"\n",
    "        log_code=False\n",
    "    )\n",
    "    experiment.set_name(f\"trial_{trial.number}\")\n",
    "\n",
    "    # Hiperparámetros Optuna\n",
    "    learning_rate = trial.suggest_float('learning_rate', 1e-5, 1e-3, log=True)\n",
    "    dropout_rate = trial.suggest_float('dropout_rate', 0.2, 0.6)\n",
    "    l2_reg = trial.suggest_float('l2_reg', 1e-6, 1e-3, log=True)\n",
    "\n",
    "    IMG_SIZE = (299, 299)\n",
    "    BATCH_SIZE = 32\n",
    "    EPOCHS = 3\n",
    "\n",
    "    experiment.log_parameters({\n",
    "        \"learning_rate\": learning_rate,\n",
    "        \"dropout_rate\": dropout_rate,\n",
    "        \"l2_reg\": l2_reg,\n",
    "        \"backbone\": \"InceptionV3\",\n",
    "        \"batch_size\": BATCH_SIZE,\n",
    "        \"img_size\": IMG_SIZE,\n",
    "        \"epochs\": EPOCHS\n",
    "    })\n",
    "\n",
    "    # Generadores\n",
    "    train_generator = PatchSequence(\n",
    "        ds_training,\n",
    "        batch_size=BATCH_SIZE,\n",
    "        patch_size=IMG_SIZE,\n",
    "        shuffle=True,\n",
    "        preprocess_fn=preprocess_input\n",
    "    )\n",
    "    val_generator = PatchSequence(\n",
    "        ds_test,\n",
    "        batch_size=BATCH_SIZE,\n",
    "        patch_size=IMG_SIZE,\n",
    "        shuffle=False,\n",
    "        preprocess_fn=preprocess_input\n",
    "    )\n",
    "\n",
    "    # Backbone\n",
    "    base = InceptionV3(\n",
    "        weights='imagenet',\n",
    "        include_top=False,\n",
    "        input_shape=(*IMG_SIZE, 3)\n",
    "    )\n",
    "    for layer in base.layers:\n",
    "        layer.trainable = False\n",
    "\n",
    "    # Clasificador\n",
    "    x = base.output\n",
    "    x = GlobalAveragePooling2D()(x)\n",
    "    x = Dense(\n",
    "        512,\n",
    "        activation='relu',\n",
    "        kernel_regularizer=l1_l2(l1=1e-4, l2=l2_reg)\n",
    "    )(x)\n",
    "    x = BatchNormalization()(x)\n",
    "    x = Dropout(dropout_rate)(x)\n",
    "    output = Dense(1, activation='sigmoid')(x)\n",
    "\n",
    "    model = Model(inputs=base.input, outputs=output)\n",
    "\n",
    "    model.compile(\n",
    "        optimizer=Adam(learning_rate=learning_rate),\n",
    "        loss='binary_crossentropy',\n",
    "        metrics=['accuracy', AUC(name='auc_roc', curve='ROC')]\n",
    "    )\n",
    "\n",
    "    t0 = time.time()\n",
    "    history = model.fit(\n",
    "        train_generator,\n",
    "        validation_data=val_generator,\n",
    "        epochs=EPOCHS,\n",
    "        steps_per_epoch=len(train_generator),\n",
    "        validation_steps=len(val_generator),\n",
    "        verbose=0\n",
    "    )\n",
    "    elapsed = time.time() - t0\n",
    "\n",
    "    # Log tiempo\n",
    "    experiment.log_metric(\"training_time_sec\", elapsed)\n",
    "\n",
    "    # Log métricas por epoch\n",
    "    for i in range(EPOCHS):\n",
    "        experiment.log_metric(\"train_accuracy\", history.history[\"accuracy\"][i], step=i)\n",
    "        experiment.log_metric(\"train_auc_roc\", history.history[\"auc_roc\"][i], step=i)\n",
    "        experiment.log_metric(\"train_loss\", history.history[\"loss\"][i], step=i)\n",
    "\n",
    "        experiment.log_metric(\"val_accuracy\", history.history[\"val_accuracy\"][i], step=i)\n",
    "        experiment.log_metric(\"val_auc_roc\", history.history[\"val_auc_roc\"][i], step=i)\n",
    "        experiment.log_metric(\"val_loss\", history.history[\"val_loss\"][i], step=i)\n",
    "\n",
    "\n",
    "    # Evaluación final\n",
    "    score = model.evaluate(val_generator, steps=len(val_generator), verbose=0)\n",
    "    experiment.log_metric(\"final_val_loss\", score[0])\n",
    "    experiment.log_metric(\"final_val_accuracy\", score[1])\n",
    "    experiment.log_metric(\"final_val_auc_roc\", score[2])\n",
    "\n",
    "    experiment.end()\n",
    "    return score[2]  # AUC ROC\n"
   ],
   "metadata": {
    "colab": {
     "base_uri": "https://localhost:8080/",
     "height": 1000
    },
    "id": "42PfTammL31i",
    "outputId": "a5154279-aba1-4141-db06-f7da303e5ddc",
    "ExecuteTime": {
     "end_time": "2025-08-05T18:29:27.259492Z",
     "start_time": "2025-08-05T18:29:27.208454Z"
    }
   },
   "outputs": [],
   "execution_count": 28
  },
  {
   "metadata": {
    "ExecuteTime": {
     "end_time": "2025-08-05T18:32:19.891019Z",
     "start_time": "2025-08-05T18:29:30.398499Z"
    }
   },
   "cell_type": "code",
   "source": [
    "study = optuna.create_study(direction='maximize', study_name='optuna_inception')\n",
    "study.optimize(objective, n_trials=3)\n",
    "\n",
    "print(\"🔍 Mejor trial:\")\n",
    "print(\"  AUC ROC:\", study.best_value)\n",
    "print(\"  Hiperparámetros:\", study.best_params)"
   ],
   "outputs": [
    {
     "name": "stderr",
     "output_type": "stream",
     "text": [
      "[I 2025-08-05 15:29:30,444] A new study created in memory with name: optuna_inception\n",
      "\u001B[1;38;5;214mCOMET WARNING:\u001B[0m To get all data logged automatically, import comet_ml before the following modules: tensorflow, sklearn, keras.\n",
      "\u001B[1;38;5;214mCOMET WARNING:\u001B[0m As you are running in a Jupyter environment, you will need to call `experiment.end()` when finished to ensure all metrics and code are logged before exiting.\n",
      "\u001B[1;38;5;39mCOMET INFO:\u001B[0m Experiment is live on comet.com https://www.comet.com/emiliodelgadouy/prueba/d17df659dc884541ad88ec0169e3b27d\n",
      "\n",
      "\u001B[1;38;5;39mCOMET INFO:\u001B[0m ---------------------------------------------------------------------------------------\n",
      "\u001B[1;38;5;39mCOMET INFO:\u001B[0m Comet.ml Experiment Summary\n",
      "\u001B[1;38;5;39mCOMET INFO:\u001B[0m ---------------------------------------------------------------------------------------\n",
      "\u001B[1;38;5;39mCOMET INFO:\u001B[0m   Data:\n",
      "\u001B[1;38;5;39mCOMET INFO:\u001B[0m     display_summary_level : 1\n",
      "\u001B[1;38;5;39mCOMET INFO:\u001B[0m     name                  : trial_0\n",
      "\u001B[1;38;5;39mCOMET INFO:\u001B[0m     url                   : https://www.comet.com/emiliodelgadouy/prueba/d17df659dc884541ad88ec0169e3b27d\n",
      "\u001B[1;38;5;39mCOMET INFO:\u001B[0m   Metrics [count] (min, max):\n",
      "\u001B[1;38;5;39mCOMET INFO:\u001B[0m     final_val_accuracy : 0.859375\n",
      "\u001B[1;38;5;39mCOMET INFO:\u001B[0m     final_val_auc_roc  : 0.0\n",
      "\u001B[1;38;5;39mCOMET INFO:\u001B[0m     final_val_loss     : 3.203688144683838\n",
      "\u001B[1;38;5;39mCOMET INFO:\u001B[0m     train_accuracy [3] : (0.4817708432674408, 0.5078125)\n",
      "\u001B[1;38;5;39mCOMET INFO:\u001B[0m     train_auc_roc      : 0.0\n",
      "\u001B[1;38;5;39mCOMET INFO:\u001B[0m     train_loss [3]     : (3.454357862472534, 3.5417048931121826)\n",
      "\u001B[1;38;5;39mCOMET INFO:\u001B[0m     training_time_sec  : 47.70574593544006\n",
      "\u001B[1;38;5;39mCOMET INFO:\u001B[0m     val_accuracy [3]   : (0.859375, 1.0)\n",
      "\u001B[1;38;5;39mCOMET INFO:\u001B[0m     val_auc_roc        : 0.0\n",
      "\u001B[1;38;5;39mCOMET INFO:\u001B[0m     val_loss [3]       : (3.0164499282836914, 3.170534610748291)\n",
      "\u001B[1;38;5;39mCOMET INFO:\u001B[0m   Others:\n",
      "\u001B[1;38;5;39mCOMET INFO:\u001B[0m     Name : trial_0\n",
      "\u001B[1;38;5;39mCOMET INFO:\u001B[0m   Parameters:\n",
      "\u001B[1;38;5;39mCOMET INFO:\u001B[0m     backbone      : InceptionV3\n",
      "\u001B[1;38;5;39mCOMET INFO:\u001B[0m     batch_size    : 32\n",
      "\u001B[1;38;5;39mCOMET INFO:\u001B[0m     dropout_rate  : 0.3912327479218696\n",
      "\u001B[1;38;5;39mCOMET INFO:\u001B[0m     epochs        : 3\n",
      "\u001B[1;38;5;39mCOMET INFO:\u001B[0m     img_size      : (299, 299)\n",
      "\u001B[1;38;5;39mCOMET INFO:\u001B[0m     l2_reg        : 9.157533584931693e-05\n",
      "\u001B[1;38;5;39mCOMET INFO:\u001B[0m     learning_rate : 5.707490682219435e-05\n",
      "\u001B[1;38;5;39mCOMET INFO:\u001B[0m   Uploads:\n",
      "\u001B[1;38;5;39mCOMET INFO:\u001B[0m     environment details : 1\n",
      "\u001B[1;38;5;39mCOMET INFO:\u001B[0m     git metadata        : 1\n",
      "\u001B[1;38;5;39mCOMET INFO:\u001B[0m     installed packages  : 1\n",
      "\u001B[1;38;5;39mCOMET INFO:\u001B[0m     os packages         : 1\n",
      "\u001B[1;38;5;39mCOMET INFO:\u001B[0m \n",
      "\u001B[1;38;5;214mCOMET WARNING:\u001B[0m To get all data logged automatically, import comet_ml before the following modules: tensorflow, sklearn, keras.\n",
      "[I 2025-08-05 15:30:28,084] Trial 0 finished with value: 0.0 and parameters: {'learning_rate': 5.707490682219435e-05, 'dropout_rate': 0.3912327479218696, 'l2_reg': 9.157533584931693e-05}. Best is trial 0 with value: 0.0.\n",
      "\u001B[1;38;5;214mCOMET WARNING:\u001B[0m To get all data logged automatically, import comet_ml before the following modules: tensorflow, sklearn, keras.\n",
      "\u001B[1;38;5;214mCOMET WARNING:\u001B[0m As you are running in a Jupyter environment, you will need to call `experiment.end()` when finished to ensure all metrics and code are logged before exiting.\n",
      "\u001B[1;38;5;39mCOMET INFO:\u001B[0m Experiment is live on comet.com https://www.comet.com/emiliodelgadouy/prueba/b32c8ab486734e2bb06b25bd7f1f450b\n",
      "\n",
      "\u001B[1;38;5;39mCOMET INFO:\u001B[0m ---------------------------------------------------------------------------------------\n",
      "\u001B[1;38;5;39mCOMET INFO:\u001B[0m Comet.ml Experiment Summary\n",
      "\u001B[1;38;5;39mCOMET INFO:\u001B[0m ---------------------------------------------------------------------------------------\n",
      "\u001B[1;38;5;39mCOMET INFO:\u001B[0m   Data:\n",
      "\u001B[1;38;5;39mCOMET INFO:\u001B[0m     display_summary_level : 1\n",
      "\u001B[1;38;5;39mCOMET INFO:\u001B[0m     name                  : trial_1\n",
      "\u001B[1;38;5;39mCOMET INFO:\u001B[0m     url                   : https://www.comet.com/emiliodelgadouy/prueba/b32c8ab486734e2bb06b25bd7f1f450b\n",
      "\u001B[1;38;5;39mCOMET INFO:\u001B[0m   Metrics [count] (min, max):\n",
      "\u001B[1;38;5;39mCOMET INFO:\u001B[0m     final_val_accuracy : 0.421875\n",
      "\u001B[1;38;5;39mCOMET INFO:\u001B[0m     final_val_auc_roc  : 0.0\n",
      "\u001B[1;38;5;39mCOMET INFO:\u001B[0m     final_val_loss     : 3.28401780128479\n",
      "\u001B[1;38;5;39mCOMET INFO:\u001B[0m     train_accuracy [3] : (0.4921875, 0.5130208134651184)\n",
      "\u001B[1;38;5;39mCOMET INFO:\u001B[0m     train_auc_roc      : 0.0\n",
      "\u001B[1;38;5;39mCOMET INFO:\u001B[0m     train_loss [3]     : (3.4580323696136475, 3.5891993045806885)\n",
      "\u001B[1;38;5;39mCOMET INFO:\u001B[0m     training_time_sec  : 48.50583791732788\n",
      "\u001B[1;38;5;39mCOMET INFO:\u001B[0m     val_accuracy [3]   : (0.390625, 0.6875)\n",
      "\u001B[1;38;5;39mCOMET INFO:\u001B[0m     val_auc_roc        : 0.0\n",
      "\u001B[1;38;5;39mCOMET INFO:\u001B[0m     val_loss [3]       : (3.254098892211914, 3.3100547790527344)\n",
      "\u001B[1;38;5;39mCOMET INFO:\u001B[0m   Others:\n",
      "\u001B[1;38;5;39mCOMET INFO:\u001B[0m     Name : trial_1\n",
      "\u001B[1;38;5;39mCOMET INFO:\u001B[0m   Parameters:\n",
      "\u001B[1;38;5;39mCOMET INFO:\u001B[0m     backbone      : InceptionV3\n",
      "\u001B[1;38;5;39mCOMET INFO:\u001B[0m     batch_size    : 32\n",
      "\u001B[1;38;5;39mCOMET INFO:\u001B[0m     dropout_rate  : 0.43009650079282524\n",
      "\u001B[1;38;5;39mCOMET INFO:\u001B[0m     epochs        : 3\n",
      "\u001B[1;38;5;39mCOMET INFO:\u001B[0m     img_size      : (299, 299)\n",
      "\u001B[1;38;5;39mCOMET INFO:\u001B[0m     l2_reg        : 9.369344897264523e-05\n",
      "\u001B[1;38;5;39mCOMET INFO:\u001B[0m     learning_rate : 0.00011015686440527859\n",
      "\u001B[1;38;5;39mCOMET INFO:\u001B[0m   Uploads:\n",
      "\u001B[1;38;5;39mCOMET INFO:\u001B[0m     environment details : 1\n",
      "\u001B[1;38;5;39mCOMET INFO:\u001B[0m     git metadata        : 1\n",
      "\u001B[1;38;5;39mCOMET INFO:\u001B[0m     installed packages  : 1\n",
      "\u001B[1;38;5;39mCOMET INFO:\u001B[0m     os packages         : 1\n",
      "\u001B[1;38;5;39mCOMET INFO:\u001B[0m \n",
      "\u001B[1;38;5;214mCOMET WARNING:\u001B[0m To get all data logged automatically, import comet_ml before the following modules: tensorflow, sklearn, keras.\n",
      "[I 2025-08-05 15:31:23,443] Trial 1 finished with value: 0.0 and parameters: {'learning_rate': 0.00011015686440527859, 'dropout_rate': 0.43009650079282524, 'l2_reg': 9.369344897264523e-05}. Best is trial 0 with value: 0.0.\n",
      "\u001B[1;38;5;214mCOMET WARNING:\u001B[0m To get all data logged automatically, import comet_ml before the following modules: tensorflow, sklearn, keras.\n",
      "\u001B[1;38;5;214mCOMET WARNING:\u001B[0m As you are running in a Jupyter environment, you will need to call `experiment.end()` when finished to ensure all metrics and code are logged before exiting.\n",
      "\u001B[1;38;5;39mCOMET INFO:\u001B[0m Experiment is live on comet.com https://www.comet.com/emiliodelgadouy/prueba/b8b8e8f83f924474a147d4268cb98da2\n",
      "\n",
      "\u001B[1;38;5;39mCOMET INFO:\u001B[0m ---------------------------------------------------------------------------------------\n",
      "\u001B[1;38;5;39mCOMET INFO:\u001B[0m Comet.ml Experiment Summary\n",
      "\u001B[1;38;5;39mCOMET INFO:\u001B[0m ---------------------------------------------------------------------------------------\n",
      "\u001B[1;38;5;39mCOMET INFO:\u001B[0m   Data:\n",
      "\u001B[1;38;5;39mCOMET INFO:\u001B[0m     display_summary_level : 1\n",
      "\u001B[1;38;5;39mCOMET INFO:\u001B[0m     name                  : trial_2\n",
      "\u001B[1;38;5;39mCOMET INFO:\u001B[0m     url                   : https://www.comet.com/emiliodelgadouy/prueba/b8b8e8f83f924474a147d4268cb98da2\n",
      "\u001B[1;38;5;39mCOMET INFO:\u001B[0m   Metrics [count] (min, max):\n",
      "\u001B[1;38;5;39mCOMET INFO:\u001B[0m     final_val_accuracy : 0.40625\n",
      "\u001B[1;38;5;39mCOMET INFO:\u001B[0m     final_val_auc_roc  : 0.0\n",
      "\u001B[1;38;5;39mCOMET INFO:\u001B[0m     final_val_loss     : 3.2804393768310547\n",
      "\u001B[1;38;5;39mCOMET INFO:\u001B[0m     train_accuracy [3] : (0.4765625, 0.53125)\n",
      "\u001B[1;38;5;39mCOMET INFO:\u001B[0m     train_auc_roc      : 0.0\n",
      "\u001B[1;38;5;39mCOMET INFO:\u001B[0m     train_loss [3]     : (3.386929750442505, 3.4581470489501953)\n",
      "\u001B[1;38;5;39mCOMET INFO:\u001B[0m     training_time_sec  : 49.44708585739136\n",
      "\u001B[1;38;5;39mCOMET INFO:\u001B[0m     val_accuracy [3]   : (0.5, 0.53125)\n",
      "\u001B[1;38;5;39mCOMET INFO:\u001B[0m     val_auc_roc        : 0.0\n",
      "\u001B[1;38;5;39mCOMET INFO:\u001B[0m     val_loss [3]       : (3.2455239295959473, 3.266129732131958)\n",
      "\u001B[1;38;5;39mCOMET INFO:\u001B[0m   Others:\n",
      "\u001B[1;38;5;39mCOMET INFO:\u001B[0m     Name : trial_2\n",
      "\u001B[1;38;5;39mCOMET INFO:\u001B[0m   Parameters:\n",
      "\u001B[1;38;5;39mCOMET INFO:\u001B[0m     backbone      : InceptionV3\n",
      "\u001B[1;38;5;39mCOMET INFO:\u001B[0m     batch_size    : 32\n",
      "\u001B[1;38;5;39mCOMET INFO:\u001B[0m     dropout_rate  : 0.24931415520870945\n",
      "\u001B[1;38;5;39mCOMET INFO:\u001B[0m     epochs        : 3\n",
      "\u001B[1;38;5;39mCOMET INFO:\u001B[0m     img_size      : (299, 299)\n",
      "\u001B[1;38;5;39mCOMET INFO:\u001B[0m     l2_reg        : 3.8140251503679256e-05\n",
      "\u001B[1;38;5;39mCOMET INFO:\u001B[0m     learning_rate : 1.375286798373822e-05\n",
      "\u001B[1;38;5;39mCOMET INFO:\u001B[0m   Uploads:\n",
      "\u001B[1;38;5;39mCOMET INFO:\u001B[0m     environment details : 1\n",
      "\u001B[1;38;5;39mCOMET INFO:\u001B[0m     git metadata        : 1\n",
      "\u001B[1;38;5;39mCOMET INFO:\u001B[0m     installed packages  : 1\n",
      "\u001B[1;38;5;39mCOMET INFO:\u001B[0m     os packages         : 1\n",
      "\u001B[1;38;5;39mCOMET INFO:\u001B[0m \n",
      "\u001B[1;38;5;214mCOMET WARNING:\u001B[0m To get all data logged automatically, import comet_ml before the following modules: tensorflow, sklearn, keras.\n",
      "\u001B[1;38;5;39mCOMET INFO:\u001B[0m Please wait for metadata to finish uploading (timeout is 3600 seconds)\n",
      "\u001B[1;38;5;39mCOMET INFO:\u001B[0m Uploading 2 metrics, params and output messages\n",
      "[I 2025-08-05 15:32:19,887] Trial 2 finished with value: 0.0 and parameters: {'learning_rate': 1.375286798373822e-05, 'dropout_rate': 0.24931415520870945, 'l2_reg': 3.8140251503679256e-05}. Best is trial 0 with value: 0.0.\n"
     ]
    },
    {
     "name": "stdout",
     "output_type": "stream",
     "text": [
      "🔍 Mejor trial:\n",
      "  AUC ROC: 0.0\n",
      "  Hiperparámetros: {'learning_rate': 5.707490682219435e-05, 'dropout_rate': 0.3912327479218696, 'l2_reg': 9.157533584931693e-05}\n"
     ]
    }
   ],
   "execution_count": 29
  }
 ]
}
